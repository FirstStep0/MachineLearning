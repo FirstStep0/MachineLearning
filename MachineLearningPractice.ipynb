{
  "cells": [
    {
      "cell_type": "markdown",
      "metadata": {
        "id": "view-in-github",
        "colab_type": "text"
      },
      "source": [
        "<a href=\"https://colab.research.google.com/github/FirstStep0/MachineLearning/blob/main/MachineLearningPractice.ipynb\" target=\"_parent\"><img src=\"https://colab.research.google.com/assets/colab-badge.svg\" alt=\"Open In Colab\"/></a>"
      ]
    },
    {
      "cell_type": "markdown",
      "metadata": {
        "id": "KT_UJJybtFoc"
      },
      "source": [
        "# Постановка задачи"
      ]
    },
    {
      "cell_type": "markdown",
      "metadata": {
        "id": "0IFP1eECwlZo"
      },
      "source": [
        " Обучить нейросеть для решения задачи классификации на 2ух классах. Объекты первого и второго класса - это квартиры, имеющие соответственно цену больше и меньше медианы стоимости квартир."
      ]
    },
    {
      "cell_type": "markdown",
      "metadata": {
        "id": "TH1iE8STwurL"
      },
      "source": [
        "Импортируем необходимые библиотеки:"
      ]
    },
    {
      "cell_type": "code",
      "execution_count": 1239,
      "metadata": {
        "id": "N-yO55SShQUT"
      },
      "outputs": [],
      "source": [
        "from google.colab import files\n",
        "import numpy as np              # Одномерные и многомерные массивы (array)\n",
        "import pandas as pd             # Таблицы и временные ряды (dataframe, series)\n",
        "import matplotlib.pyplot as plt # Научная графика\n",
        "import seaborn as sns           # Еще больше красивой графики для визуализации данных\n",
        "import sklearn                  # Алгоритмы машинного обучения\n",
        "import zipfile\n",
        "import requests"
      ]
    },
    {
      "cell_type": "markdown",
      "metadata": {
        "id": "mRo-KYuww2UB"
      },
      "source": [
        "Извлечем данные из zip архива:"
      ]
    },
    {
      "cell_type": "code",
      "execution_count": 1240,
      "metadata": {
        "id": "QsrZRp-DqGuN"
      },
      "outputs": [],
      "source": [
        "with zipfile.ZipFile('dataset.zip', 'r') as zip_ref:\n",
        "    zip_ref.extractall()"
      ]
    },
    {
      "cell_type": "code",
      "execution_count": 1241,
      "metadata": {
        "id": "xwyO5EM1gPbY"
      },
      "outputs": [],
      "source": [
        "#file = open('house_prices.csv', mode='r')\n",
        "data = pd.read_csv('house_prices.csv')"
      ]
    },
    {
      "cell_type": "markdown",
      "metadata": {
        "id": "xe8vUycmxNSS"
      },
      "source": [
        "Описание столбцов:"
      ]
    },
    {
      "cell_type": "code",
      "execution_count": 1242,
      "metadata": {
        "colab": {
          "base_uri": "https://localhost:8080/"
        },
        "id": "-m_PsZkGhVMz",
        "outputId": "53e97958-235c-44b1-bfb0-fec9b62a4061"
      },
      "outputs": [
        {
          "output_type": "execute_result",
          "data": {
            "text/plain": [
              "Index(['Index', 'Title', 'Description', 'Amount(in rupees)',\n",
              "       'Price (in rupees)', 'location', 'Carpet Area', 'Status', 'Floor',\n",
              "       'Transaction', 'Furnishing', 'facing', 'overlooking', 'Society',\n",
              "       'Bathroom', 'Balcony', 'Car Parking', 'Ownership', 'Super Area',\n",
              "       'Dimensions', 'Plot Area'],\n",
              "      dtype='object')"
            ]
          },
          "metadata": {},
          "execution_count": 1242
        }
      ],
      "source": [
        "data.columns"
      ]
    },
    {
      "cell_type": "markdown",
      "metadata": {
        "id": "6Q3vsTHayUii"
      },
      "source": [
        "* Title - информация о кол-ве комнат, готовности к заселению и о местоположении недвижимости.\n",
        "* Description - описание недвижимости.\n",
        "* Amount(in rupees) - итоговая стоимость\n",
        "* Price (in rupees) - цена за квадратный фут\n",
        "* location - название города, в котором находится недвижимость\n",
        "* Carpet Area - полезная площадь квартиры (площадь спальни + гостиной + балкона + туалета - толщина внутренних стен)\n",
        "* Status - статус недвижимости\n",
        "* Floor - этаж\n",
        "* Transaction - сделка (перепродажа или новая недвижимость)\n",
        "* Furnishing - наличие мебели (полное,частичное или нет)\n",
        "* facing - сторона света, на которую выходят окна\n",
        "* overlooking - вид из окна\n",
        "* Society - название жилого комплекса\n",
        "* Bathroom - количество ванных комнат\n",
        "* Balcony - количество балконов\n",
        "* Car Parking - количество и тип парковочных мест (открытая или закрытая парковка)\n",
        "* Ownership - право собственности (владение всей недвижимостью, т.е. freehold или её долей, т.е. Co-operative Society)\n",
        "* Super Area - суперзастроенная полощадь (площадь с учетом пропорциональной части от общей недвижимости)\n",
        "* Dimensions - размеры\n",
        "* Plot Area - площадь участка"
      ]
    },
    {
      "cell_type": "markdown",
      "metadata": {
        "id": "21YVf6_kp62s"
      },
      "source": [
        "Переименуем столбцы 'Amount(in rupees)' и 'Price (in rupees)'"
      ]
    },
    {
      "cell_type": "code",
      "execution_count": 1243,
      "metadata": {
        "id": "2rDpXICBoT8z"
      },
      "outputs": [],
      "source": [
        "data = data.rename(columns={'Amount(in rupees)': 'Amount', 'Price (in rupees)':'Price'})"
      ]
    },
    {
      "cell_type": "code",
      "execution_count": 1244,
      "metadata": {
        "colab": {
          "base_uri": "https://localhost:8080/"
        },
        "id": "4GL_x5M60TzH",
        "outputId": "0b887678-72b9-4625-8881-a233e4174eab"
      },
      "outputs": [
        {
          "output_type": "execute_result",
          "data": {
            "text/plain": [
              "Index          187531\n",
              "Title          187531\n",
              "Description    184508\n",
              "Amount         187531\n",
              "Price          169866\n",
              "location       187531\n",
              "Carpet Area    106858\n",
              "Status         186916\n",
              "Floor          180454\n",
              "Transaction    187448\n",
              "Furnishing     184634\n",
              "facing         117298\n",
              "overlooking    106095\n",
              "Society         77853\n",
              "Bathroom       186703\n",
              "Balcony        138596\n",
              "Car Parking     84174\n",
              "Ownership      122014\n",
              "Super Area      79846\n",
              "Dimensions          0\n",
              "Plot Area           0\n",
              "dtype: int64"
            ]
          },
          "metadata": {},
          "execution_count": 1244
        }
      ],
      "source": [
        "data.count()"
      ]
    },
    {
      "cell_type": "markdown",
      "metadata": {
        "id": "gZg-qIJnrNo1"
      },
      "source": [
        "Можем заметить, что в столбцах 'Dimensions' и 'Plot Area' нет значений, отличных от null"
      ]
    },
    {
      "cell_type": "markdown",
      "metadata": {
        "id": "2PrUpeXfxcHu"
      },
      "source": [
        "Первые строки:"
      ]
    },
    {
      "cell_type": "code",
      "execution_count": 1245,
      "metadata": {
        "colab": {
          "base_uri": "https://localhost:8080/",
          "height": 724
        },
        "id": "cR-rxphPrEAD",
        "outputId": "3d551952-a8ca-4f08-eb16-942d3f9d7eb4"
      },
      "outputs": [
        {
          "output_type": "execute_result",
          "data": {
            "text/plain": [
              "   Index                                              Title  \\\n",
              "0      0  1 BHK Ready to Occupy Flat for sale in Srushti...   \n",
              "1      1  2 BHK Ready to Occupy Flat for sale in Dosti V...   \n",
              "2      2  2 BHK Ready to Occupy Flat for sale in Sunrise...   \n",
              "3      3        1 BHK Ready to Occupy Flat for sale Kasheli   \n",
              "4      4  2 BHK Ready to Occupy Flat for sale in TenX Ha...   \n",
              "\n",
              "                                         Description    Amount    Price  \\\n",
              "0  Bhiwandi, Thane has an attractive 1 BHK Flat f...   42 Lac    6000.0   \n",
              "1  One can find this stunning 2 BHK flat for sale...   98 Lac   13799.0   \n",
              "2  Up for immediate sale is a 2 BHK apartment in ...  1.40 Cr   17500.0   \n",
              "3  This beautiful 1 BHK Flat is available for sal...   25 Lac       NaN   \n",
              "4  This lovely 2 BHK Flat in Pokhran Road, Thane ...  1.60 Cr   18824.0   \n",
              "\n",
              "  location Carpet Area         Status         Floor Transaction  ... facing  \\\n",
              "0    thane    500 sqft  Ready to Move  10 out of 11      Resale  ...    NaN   \n",
              "1    thane    473 sqft  Ready to Move   3 out of 22      Resale  ...   East   \n",
              "2    thane    779 sqft  Ready to Move  10 out of 29      Resale  ...   East   \n",
              "3    thane    530 sqft  Ready to Move    1 out of 3      Resale  ...    NaN   \n",
              "4    thane    635 sqft  Ready to Move  20 out of 42      Resale  ...   West   \n",
              "\n",
              "              overlooking                              Society Bathroom  \\\n",
              "0                     NaN  Srushti Siddhi Mangal Murti Complex        1   \n",
              "1             Garden/Park                          Dosti Vihar        2   \n",
              "2             Garden/Park                 Sunrise by Kalpataru        2   \n",
              "3                     NaN                                  NaN        1   \n",
              "4  Garden/Park, Main Road          TenX Habitat Raymond Realty        2   \n",
              "\n",
              "  Balcony Car Parking             Ownership Super Area Dimensions  Plot Area  \n",
              "0       2         NaN                   NaN        NaN        NaN        NaN  \n",
              "1     NaN      1 Open              Freehold        NaN        NaN        NaN  \n",
              "2     NaN   1 Covered              Freehold        NaN        NaN        NaN  \n",
              "3       1         NaN                   NaN        NaN        NaN        NaN  \n",
              "4     NaN   1 Covered  Co-operative Society        NaN        NaN        NaN  \n",
              "\n",
              "[5 rows x 21 columns]"
            ],
            "text/html": [
              "\n",
              "  <div id=\"df-c4ee83a7-548b-4082-9616-a350b9c9f9c9\" class=\"colab-df-container\">\n",
              "    <div>\n",
              "<style scoped>\n",
              "    .dataframe tbody tr th:only-of-type {\n",
              "        vertical-align: middle;\n",
              "    }\n",
              "\n",
              "    .dataframe tbody tr th {\n",
              "        vertical-align: top;\n",
              "    }\n",
              "\n",
              "    .dataframe thead th {\n",
              "        text-align: right;\n",
              "    }\n",
              "</style>\n",
              "<table border=\"1\" class=\"dataframe\">\n",
              "  <thead>\n",
              "    <tr style=\"text-align: right;\">\n",
              "      <th></th>\n",
              "      <th>Index</th>\n",
              "      <th>Title</th>\n",
              "      <th>Description</th>\n",
              "      <th>Amount</th>\n",
              "      <th>Price</th>\n",
              "      <th>location</th>\n",
              "      <th>Carpet Area</th>\n",
              "      <th>Status</th>\n",
              "      <th>Floor</th>\n",
              "      <th>Transaction</th>\n",
              "      <th>...</th>\n",
              "      <th>facing</th>\n",
              "      <th>overlooking</th>\n",
              "      <th>Society</th>\n",
              "      <th>Bathroom</th>\n",
              "      <th>Balcony</th>\n",
              "      <th>Car Parking</th>\n",
              "      <th>Ownership</th>\n",
              "      <th>Super Area</th>\n",
              "      <th>Dimensions</th>\n",
              "      <th>Plot Area</th>\n",
              "    </tr>\n",
              "  </thead>\n",
              "  <tbody>\n",
              "    <tr>\n",
              "      <th>0</th>\n",
              "      <td>0</td>\n",
              "      <td>1 BHK Ready to Occupy Flat for sale in Srushti...</td>\n",
              "      <td>Bhiwandi, Thane has an attractive 1 BHK Flat f...</td>\n",
              "      <td>42 Lac</td>\n",
              "      <td>6000.0</td>\n",
              "      <td>thane</td>\n",
              "      <td>500 sqft</td>\n",
              "      <td>Ready to Move</td>\n",
              "      <td>10 out of 11</td>\n",
              "      <td>Resale</td>\n",
              "      <td>...</td>\n",
              "      <td>NaN</td>\n",
              "      <td>NaN</td>\n",
              "      <td>Srushti Siddhi Mangal Murti Complex</td>\n",
              "      <td>1</td>\n",
              "      <td>2</td>\n",
              "      <td>NaN</td>\n",
              "      <td>NaN</td>\n",
              "      <td>NaN</td>\n",
              "      <td>NaN</td>\n",
              "      <td>NaN</td>\n",
              "    </tr>\n",
              "    <tr>\n",
              "      <th>1</th>\n",
              "      <td>1</td>\n",
              "      <td>2 BHK Ready to Occupy Flat for sale in Dosti V...</td>\n",
              "      <td>One can find this stunning 2 BHK flat for sale...</td>\n",
              "      <td>98 Lac</td>\n",
              "      <td>13799.0</td>\n",
              "      <td>thane</td>\n",
              "      <td>473 sqft</td>\n",
              "      <td>Ready to Move</td>\n",
              "      <td>3 out of 22</td>\n",
              "      <td>Resale</td>\n",
              "      <td>...</td>\n",
              "      <td>East</td>\n",
              "      <td>Garden/Park</td>\n",
              "      <td>Dosti Vihar</td>\n",
              "      <td>2</td>\n",
              "      <td>NaN</td>\n",
              "      <td>1 Open</td>\n",
              "      <td>Freehold</td>\n",
              "      <td>NaN</td>\n",
              "      <td>NaN</td>\n",
              "      <td>NaN</td>\n",
              "    </tr>\n",
              "    <tr>\n",
              "      <th>2</th>\n",
              "      <td>2</td>\n",
              "      <td>2 BHK Ready to Occupy Flat for sale in Sunrise...</td>\n",
              "      <td>Up for immediate sale is a 2 BHK apartment in ...</td>\n",
              "      <td>1.40 Cr</td>\n",
              "      <td>17500.0</td>\n",
              "      <td>thane</td>\n",
              "      <td>779 sqft</td>\n",
              "      <td>Ready to Move</td>\n",
              "      <td>10 out of 29</td>\n",
              "      <td>Resale</td>\n",
              "      <td>...</td>\n",
              "      <td>East</td>\n",
              "      <td>Garden/Park</td>\n",
              "      <td>Sunrise by Kalpataru</td>\n",
              "      <td>2</td>\n",
              "      <td>NaN</td>\n",
              "      <td>1 Covered</td>\n",
              "      <td>Freehold</td>\n",
              "      <td>NaN</td>\n",
              "      <td>NaN</td>\n",
              "      <td>NaN</td>\n",
              "    </tr>\n",
              "    <tr>\n",
              "      <th>3</th>\n",
              "      <td>3</td>\n",
              "      <td>1 BHK Ready to Occupy Flat for sale Kasheli</td>\n",
              "      <td>This beautiful 1 BHK Flat is available for sal...</td>\n",
              "      <td>25 Lac</td>\n",
              "      <td>NaN</td>\n",
              "      <td>thane</td>\n",
              "      <td>530 sqft</td>\n",
              "      <td>Ready to Move</td>\n",
              "      <td>1 out of 3</td>\n",
              "      <td>Resale</td>\n",
              "      <td>...</td>\n",
              "      <td>NaN</td>\n",
              "      <td>NaN</td>\n",
              "      <td>NaN</td>\n",
              "      <td>1</td>\n",
              "      <td>1</td>\n",
              "      <td>NaN</td>\n",
              "      <td>NaN</td>\n",
              "      <td>NaN</td>\n",
              "      <td>NaN</td>\n",
              "      <td>NaN</td>\n",
              "    </tr>\n",
              "    <tr>\n",
              "      <th>4</th>\n",
              "      <td>4</td>\n",
              "      <td>2 BHK Ready to Occupy Flat for sale in TenX Ha...</td>\n",
              "      <td>This lovely 2 BHK Flat in Pokhran Road, Thane ...</td>\n",
              "      <td>1.60 Cr</td>\n",
              "      <td>18824.0</td>\n",
              "      <td>thane</td>\n",
              "      <td>635 sqft</td>\n",
              "      <td>Ready to Move</td>\n",
              "      <td>20 out of 42</td>\n",
              "      <td>Resale</td>\n",
              "      <td>...</td>\n",
              "      <td>West</td>\n",
              "      <td>Garden/Park, Main Road</td>\n",
              "      <td>TenX Habitat Raymond Realty</td>\n",
              "      <td>2</td>\n",
              "      <td>NaN</td>\n",
              "      <td>1 Covered</td>\n",
              "      <td>Co-operative Society</td>\n",
              "      <td>NaN</td>\n",
              "      <td>NaN</td>\n",
              "      <td>NaN</td>\n",
              "    </tr>\n",
              "  </tbody>\n",
              "</table>\n",
              "<p>5 rows × 21 columns</p>\n",
              "</div>\n",
              "    <div class=\"colab-df-buttons\">\n",
              "\n",
              "  <div class=\"colab-df-container\">\n",
              "    <button class=\"colab-df-convert\" onclick=\"convertToInteractive('df-c4ee83a7-548b-4082-9616-a350b9c9f9c9')\"\n",
              "            title=\"Convert this dataframe to an interactive table.\"\n",
              "            style=\"display:none;\">\n",
              "\n",
              "  <svg xmlns=\"http://www.w3.org/2000/svg\" height=\"24px\" viewBox=\"0 -960 960 960\">\n",
              "    <path d=\"M120-120v-720h720v720H120Zm60-500h600v-160H180v160Zm220 220h160v-160H400v160Zm0 220h160v-160H400v160ZM180-400h160v-160H180v160Zm440 0h160v-160H620v160ZM180-180h160v-160H180v160Zm440 0h160v-160H620v160Z\"/>\n",
              "  </svg>\n",
              "    </button>\n",
              "\n",
              "  <style>\n",
              "    .colab-df-container {\n",
              "      display:flex;\n",
              "      gap: 12px;\n",
              "    }\n",
              "\n",
              "    .colab-df-convert {\n",
              "      background-color: #E8F0FE;\n",
              "      border: none;\n",
              "      border-radius: 50%;\n",
              "      cursor: pointer;\n",
              "      display: none;\n",
              "      fill: #1967D2;\n",
              "      height: 32px;\n",
              "      padding: 0 0 0 0;\n",
              "      width: 32px;\n",
              "    }\n",
              "\n",
              "    .colab-df-convert:hover {\n",
              "      background-color: #E2EBFA;\n",
              "      box-shadow: 0px 1px 2px rgba(60, 64, 67, 0.3), 0px 1px 3px 1px rgba(60, 64, 67, 0.15);\n",
              "      fill: #174EA6;\n",
              "    }\n",
              "\n",
              "    .colab-df-buttons div {\n",
              "      margin-bottom: 4px;\n",
              "    }\n",
              "\n",
              "    [theme=dark] .colab-df-convert {\n",
              "      background-color: #3B4455;\n",
              "      fill: #D2E3FC;\n",
              "    }\n",
              "\n",
              "    [theme=dark] .colab-df-convert:hover {\n",
              "      background-color: #434B5C;\n",
              "      box-shadow: 0px 1px 3px 1px rgba(0, 0, 0, 0.15);\n",
              "      filter: drop-shadow(0px 1px 2px rgba(0, 0, 0, 0.3));\n",
              "      fill: #FFFFFF;\n",
              "    }\n",
              "  </style>\n",
              "\n",
              "    <script>\n",
              "      const buttonEl =\n",
              "        document.querySelector('#df-c4ee83a7-548b-4082-9616-a350b9c9f9c9 button.colab-df-convert');\n",
              "      buttonEl.style.display =\n",
              "        google.colab.kernel.accessAllowed ? 'block' : 'none';\n",
              "\n",
              "      async function convertToInteractive(key) {\n",
              "        const element = document.querySelector('#df-c4ee83a7-548b-4082-9616-a350b9c9f9c9');\n",
              "        const dataTable =\n",
              "          await google.colab.kernel.invokeFunction('convertToInteractive',\n",
              "                                                    [key], {});\n",
              "        if (!dataTable) return;\n",
              "\n",
              "        const docLinkHtml = 'Like what you see? Visit the ' +\n",
              "          '<a target=\"_blank\" href=https://colab.research.google.com/notebooks/data_table.ipynb>data table notebook</a>'\n",
              "          + ' to learn more about interactive tables.';\n",
              "        element.innerHTML = '';\n",
              "        dataTable['output_type'] = 'display_data';\n",
              "        await google.colab.output.renderOutput(dataTable, element);\n",
              "        const docLink = document.createElement('div');\n",
              "        docLink.innerHTML = docLinkHtml;\n",
              "        element.appendChild(docLink);\n",
              "      }\n",
              "    </script>\n",
              "  </div>\n",
              "\n",
              "\n",
              "<div id=\"df-e199aff2-feb2-419f-828b-5d3ad7327aac\">\n",
              "  <button class=\"colab-df-quickchart\" onclick=\"quickchart('df-e199aff2-feb2-419f-828b-5d3ad7327aac')\"\n",
              "            title=\"Suggest charts\"\n",
              "            style=\"display:none;\">\n",
              "\n",
              "<svg xmlns=\"http://www.w3.org/2000/svg\" height=\"24px\"viewBox=\"0 0 24 24\"\n",
              "     width=\"24px\">\n",
              "    <g>\n",
              "        <path d=\"M19 3H5c-1.1 0-2 .9-2 2v14c0 1.1.9 2 2 2h14c1.1 0 2-.9 2-2V5c0-1.1-.9-2-2-2zM9 17H7v-7h2v7zm4 0h-2V7h2v10zm4 0h-2v-4h2v4z\"/>\n",
              "    </g>\n",
              "</svg>\n",
              "  </button>\n",
              "\n",
              "<style>\n",
              "  .colab-df-quickchart {\n",
              "      --bg-color: #E8F0FE;\n",
              "      --fill-color: #1967D2;\n",
              "      --hover-bg-color: #E2EBFA;\n",
              "      --hover-fill-color: #174EA6;\n",
              "      --disabled-fill-color: #AAA;\n",
              "      --disabled-bg-color: #DDD;\n",
              "  }\n",
              "\n",
              "  [theme=dark] .colab-df-quickchart {\n",
              "      --bg-color: #3B4455;\n",
              "      --fill-color: #D2E3FC;\n",
              "      --hover-bg-color: #434B5C;\n",
              "      --hover-fill-color: #FFFFFF;\n",
              "      --disabled-bg-color: #3B4455;\n",
              "      --disabled-fill-color: #666;\n",
              "  }\n",
              "\n",
              "  .colab-df-quickchart {\n",
              "    background-color: var(--bg-color);\n",
              "    border: none;\n",
              "    border-radius: 50%;\n",
              "    cursor: pointer;\n",
              "    display: none;\n",
              "    fill: var(--fill-color);\n",
              "    height: 32px;\n",
              "    padding: 0;\n",
              "    width: 32px;\n",
              "  }\n",
              "\n",
              "  .colab-df-quickchart:hover {\n",
              "    background-color: var(--hover-bg-color);\n",
              "    box-shadow: 0 1px 2px rgba(60, 64, 67, 0.3), 0 1px 3px 1px rgba(60, 64, 67, 0.15);\n",
              "    fill: var(--button-hover-fill-color);\n",
              "  }\n",
              "\n",
              "  .colab-df-quickchart-complete:disabled,\n",
              "  .colab-df-quickchart-complete:disabled:hover {\n",
              "    background-color: var(--disabled-bg-color);\n",
              "    fill: var(--disabled-fill-color);\n",
              "    box-shadow: none;\n",
              "  }\n",
              "\n",
              "  .colab-df-spinner {\n",
              "    border: 2px solid var(--fill-color);\n",
              "    border-color: transparent;\n",
              "    border-bottom-color: var(--fill-color);\n",
              "    animation:\n",
              "      spin 1s steps(1) infinite;\n",
              "  }\n",
              "\n",
              "  @keyframes spin {\n",
              "    0% {\n",
              "      border-color: transparent;\n",
              "      border-bottom-color: var(--fill-color);\n",
              "      border-left-color: var(--fill-color);\n",
              "    }\n",
              "    20% {\n",
              "      border-color: transparent;\n",
              "      border-left-color: var(--fill-color);\n",
              "      border-top-color: var(--fill-color);\n",
              "    }\n",
              "    30% {\n",
              "      border-color: transparent;\n",
              "      border-left-color: var(--fill-color);\n",
              "      border-top-color: var(--fill-color);\n",
              "      border-right-color: var(--fill-color);\n",
              "    }\n",
              "    40% {\n",
              "      border-color: transparent;\n",
              "      border-right-color: var(--fill-color);\n",
              "      border-top-color: var(--fill-color);\n",
              "    }\n",
              "    60% {\n",
              "      border-color: transparent;\n",
              "      border-right-color: var(--fill-color);\n",
              "    }\n",
              "    80% {\n",
              "      border-color: transparent;\n",
              "      border-right-color: var(--fill-color);\n",
              "      border-bottom-color: var(--fill-color);\n",
              "    }\n",
              "    90% {\n",
              "      border-color: transparent;\n",
              "      border-bottom-color: var(--fill-color);\n",
              "    }\n",
              "  }\n",
              "</style>\n",
              "\n",
              "  <script>\n",
              "    async function quickchart(key) {\n",
              "      const quickchartButtonEl =\n",
              "        document.querySelector('#' + key + ' button');\n",
              "      quickchartButtonEl.disabled = true;  // To prevent multiple clicks.\n",
              "      quickchartButtonEl.classList.add('colab-df-spinner');\n",
              "      try {\n",
              "        const charts = await google.colab.kernel.invokeFunction(\n",
              "            'suggestCharts', [key], {});\n",
              "      } catch (error) {\n",
              "        console.error('Error during call to suggestCharts:', error);\n",
              "      }\n",
              "      quickchartButtonEl.classList.remove('colab-df-spinner');\n",
              "      quickchartButtonEl.classList.add('colab-df-quickchart-complete');\n",
              "    }\n",
              "    (() => {\n",
              "      let quickchartButtonEl =\n",
              "        document.querySelector('#df-e199aff2-feb2-419f-828b-5d3ad7327aac button');\n",
              "      quickchartButtonEl.style.display =\n",
              "        google.colab.kernel.accessAllowed ? 'block' : 'none';\n",
              "    })();\n",
              "  </script>\n",
              "</div>\n",
              "    </div>\n",
              "  </div>\n"
            ]
          },
          "metadata": {},
          "execution_count": 1245
        }
      ],
      "source": [
        "data.head()"
      ]
    },
    {
      "cell_type": "markdown",
      "metadata": {
        "id": "JjW5D3iLvtxc"
      },
      "source": [
        "Рассмотрим уникальные значения некоторых столбцов:"
      ]
    },
    {
      "cell_type": "code",
      "execution_count": 1246,
      "metadata": {
        "colab": {
          "base_uri": "https://localhost:8080/"
        },
        "id": "4p4ObOsFCwfx",
        "outputId": "e1ad8130-7cfc-4da3-fb70-a3dd52554fd8"
      },
      "outputs": [
        {
          "output_type": "execute_result",
          "data": {
            "text/plain": [
              "array(['Ready to Move', nan], dtype=object)"
            ]
          },
          "metadata": {},
          "execution_count": 1246
        }
      ],
      "source": [
        "data['Status'].unique()"
      ]
    },
    {
      "cell_type": "markdown",
      "metadata": {
        "id": "YnZqyZSsrgYB"
      },
      "source": [
        "Можем заметить, что в столбце 186916 из 187531 значений равны 'Ready to Move', остальные это null"
      ]
    },
    {
      "cell_type": "code",
      "execution_count": 1247,
      "metadata": {
        "colab": {
          "base_uri": "https://localhost:8080/"
        },
        "id": "lyoY7gFY1N2l",
        "outputId": "ff6da736-9739-4d7c-ee37-22608cd5ff6c"
      },
      "outputs": [
        {
          "output_type": "execute_result",
          "data": {
            "text/plain": [
              "array(['1 BHK Ready to Occupy Flat for sale in Srushti Siddhi Mangal Murti Complex Bhiwandi',\n",
              "       '2 BHK Ready to Occupy Flat for sale in Dosti Vihar Pokhran Road',\n",
              "       '2 BHK Ready to Occupy Flat for sale in Sunrise by Kalpataru Kolshet Road',\n",
              "       ...,\n",
              "       '2 BHK Ready to Occupy Flat for sale in Jaivee Radha Enclave Peer Muchalla',\n",
              "       '4 BHK Ready to Occupy Flat for sale Nagla Road',\n",
              "       '2 BHK Ready to Occupy Flat for sale in Friends Enclave Kishanpura'],\n",
              "      dtype=object)"
            ]
          },
          "metadata": {},
          "execution_count": 1247
        }
      ],
      "source": [
        "data['Title'].unique()"
      ]
    },
    {
      "cell_type": "code",
      "execution_count": 1248,
      "metadata": {
        "colab": {
          "base_uri": "https://localhost:8080/"
        },
        "id": "Xz-FUuV_ypdw",
        "outputId": "21f8d6e4-a883-4dd7-9bd5-717cdcdc82b3"
      },
      "outputs": [
        {
          "output_type": "execute_result",
          "data": {
            "text/plain": [
              "array([nan, 'Freehold', 'Co-operative Society', 'Power Of Attorney',\n",
              "       'Leasehold'], dtype=object)"
            ]
          },
          "metadata": {},
          "execution_count": 1248
        }
      ],
      "source": [
        "data['Ownership'].unique()"
      ]
    },
    {
      "cell_type": "code",
      "source": [
        "data['Car Parking'].unique()"
      ],
      "metadata": {
        "colab": {
          "base_uri": "https://localhost:8080/"
        },
        "id": "gBIAjGH0SxVX",
        "outputId": "4967fd90-4e57-4feb-81b6-dbb175a545b6"
      },
      "execution_count": 1249,
      "outputs": [
        {
          "output_type": "execute_result",
          "data": {
            "text/plain": [
              "array([nan, '1 Open', '1 Covered', '2 Covered', '66 Covered',\n",
              "       '701 Covered', '3 Covered', '1 Covered,', '35 Open', '4 Open',\n",
              "       '323 Covered', '4 Covered,', '11 Covered', '103 Open',\n",
              "       '203 Covered', '2 Open', '180 Covered', '14 Open', '50 Open',\n",
              "       '10 Covered', '15 Open', '5 Open', '7 Covered', '4 Covered',\n",
              "       '509 Covered,', '6 Covered', '101 Covered', '5 Covered,',\n",
              "       '6 Covered,', '3 Covered,', '123 Covered', '505 Covered',\n",
              "       '402 Covered', '8 Covered', '5 Covered', '2 Covered,',\n",
              "       '103 Covered', '12 Covered,', '202 Open', '202 Covered',\n",
              "       '20 Covered,', '503 Open', '401 Covered', '3 Open', '501 Covered',\n",
              "       '10 Covered,', '147 Covered', '20 Covered', '310 Covered',\n",
              "       '204 Covered', '313 Covered', '302 Covered', '442 Covered',\n",
              "       '23 Covered', '201 Covered,', '8 Open', '112 Covered',\n",
              "       '14 Covered', '706 Covered', '107 Covered', '120 Covered',\n",
              "       '250 Covered', '255 Covered', '11 Open', '217 Covered',\n",
              "       '12 Covered', '621 Covered', '309 Covered', '536 Covered',\n",
              "       '601 Covered', '15 Covered', '54 Covered', '20 Open', '10 Open',\n",
              "       '403 Open', '53 Open', '24 Covered', '33 Covered', '12 Open',\n",
              "       '500 Open', '9 Covered,', '89 Open', '604 Covered', '87 Covered',\n",
              "       '903 Covered', '704 Covered', '30 Covered,', '39 Covered',\n",
              "       '34 Covered', '306 Covered', '218 Covered', '305 Covered',\n",
              "       '502 Covered', '406 Open', '102 Covered', '129 Open',\n",
              "       '201 Covered', '15 Covered,', '76 Covered', '413 Covered',\n",
              "       '100 Covered', '324 Covered', '300 Covered', '25 Covered',\n",
              "       '21 Covered,', '301 Covered', '118 Open', '818 Open', '113 Open',\n",
              "       '411 Covered', '999 Open', '9 Covered', '17 Covered',\n",
              "       '999 Covered', '42 Covered', '118 Covered', '571 Open',\n",
              "       '253 Covered', '51 Covered', '212 Open', '259 Covered', '31 Open',\n",
              "       '210 Open', '22 Covered', '256 Covered', '50 Covered',\n",
              "       '8 Covered,', '32 Open', '428 Covered', '7 Covered,',\n",
              "       '703 Covered', '507 Covered', '605 Covered', '801 Covered',\n",
              "       '205 Open', '40 Covered', '701 Open', '151 Open', '40 Open',\n",
              "       '30 Covered', '804 Open', '16 Covered,', '102 Open', '9 Open',\n",
              "       '45 Open', '30 Open', '200 Open', '47 Open', '67 Open',\n",
              "       '78 Covered', '653 Open', '215 Covered', '109 Covered', '504 Open',\n",
              "       '222 Covered', '23 Open', '221 Open', '204 Open', '303 Covered',\n",
              "       '18 Covered', '17 Open', '156 Covered', '123 Open', '835 Covered',\n",
              "       '60 Open', '45 Covered', '13 Covered,', '13 Open', '52 Open',\n",
              "       '27 Covered,', '98 Covered', '6 Open', '23 Covered,', '22 Open',\n",
              "       '21 Covered', '908 Covered', '808 Open', '510 Covered',\n",
              "       '506 Covered', '111 Covered', '234 Covered', '129 Covered',\n",
              "       '59 Covered', '506 Open', '901 Covered', '420 Covered',\n",
              "       '408 Covered', '60 Covered', '38 Covered', '90 Covered,',\n",
              "       '13 Covered', '604 Open', '18 Open', '196 Open', '211 Covered',\n",
              "       '110 Open', '702 Covered', '100 Open', '302 Open', '174 Open',\n",
              "       '80 Covered', '40 Covered,', '305 Open', '233 Open', '35 Covered,',\n",
              "       '35 Covered', '24 Open', '406 Covered', '48 Covered', '16 Covered',\n",
              "       '108 Covered', '70 Open', '125 Open', '503 Covered', '31 Covered',\n",
              "       '110 Covered', '404 Covered', '7 Open', '303 Open', '101 Open',\n",
              "       '304 Covered', '207 Covered', '206 Covered', '104 Covered',\n",
              "       '416 Covered', '205 Covered', '300 Open', '11 Covered,',\n",
              "       '403 Covered', '702 Open'], dtype=object)"
            ]
          },
          "metadata": {},
          "execution_count": 1249
        }
      ]
    },
    {
      "cell_type": "code",
      "execution_count": 1250,
      "metadata": {
        "colab": {
          "base_uri": "https://localhost:8080/"
        },
        "id": "mPQ_1Pn-zayX",
        "outputId": "3ce15643-6c12-44d1-a677-ad7fa5573a01"
      },
      "outputs": [
        {
          "output_type": "execute_result",
          "data": {
            "text/plain": [
              "array(['thane', 'navi-mumbai', 'nagpur', 'mumbai', 'ahmedabad',\n",
              "       'bangalore', 'chennai', 'gurgaon', 'hyderabad', 'indore', 'jaipur',\n",
              "       'kolkata', 'lucknow', 'new-delhi', 'noida', 'pune', 'agra',\n",
              "       'ahmadnagar', 'allahabad', 'aurangabad', 'badlapur', 'belgaum',\n",
              "       'bhiwadi', 'bhiwandi', 'bhopal', 'bhubaneswar', 'chandigarh',\n",
              "       'coimbatore', 'dehradun', 'durgapur', 'ernakulam', 'faridabad',\n",
              "       'ghaziabad', 'goa', 'greater-noida', 'guntur', 'guwahati',\n",
              "       'gwalior', 'haridwar', 'jabalpur', 'jamshedpur', 'jodhpur',\n",
              "       'kalyan', 'kanpur', 'kochi', 'kozhikode', 'ludhiana', 'madurai',\n",
              "       'mangalore', 'mohali', 'mysore', 'nashik', 'navsari', 'nellore',\n",
              "       'palakkad', 'palghar', 'panchkula', 'patna', 'pondicherry',\n",
              "       'raipur', 'rajahmundry', 'ranchi', 'satara', 'shimla', 'siliguri',\n",
              "       'solapur', 'sonipat', 'surat', 'thrissur', 'tirupati', 'trichy',\n",
              "       'trivandrum', 'udaipur', 'udupi', 'vadodara', 'vapi', 'varanasi',\n",
              "       'vijayawada', 'visakhapatnam', 'vrindavan', 'zirakpur'],\n",
              "      dtype=object)"
            ]
          },
          "metadata": {},
          "execution_count": 1250
        }
      ],
      "source": [
        "data['location'].unique()"
      ]
    },
    {
      "cell_type": "code",
      "execution_count": 1251,
      "metadata": {
        "colab": {
          "base_uri": "https://localhost:8080/"
        },
        "id": "5U4KsOF-xVJ7",
        "outputId": "fbb64903-a278-411f-99a5-1f3346a9bd10"
      },
      "outputs": [
        {
          "output_type": "execute_result",
          "data": {
            "text/plain": [
              "array(['Srushti Siddhi Mangal Murti Complex', 'Dosti Vihar',\n",
              "       'Sunrise by Kalpataru', ..., 'Silver City Greens',\n",
              "       'Nirmaan Royale Empire', 'Jaivee Radha Enclave'], dtype=object)"
            ]
          },
          "metadata": {},
          "execution_count": 1251
        }
      ],
      "source": [
        "data['Society'].unique()"
      ]
    },
    {
      "cell_type": "code",
      "execution_count": 1252,
      "metadata": {
        "colab": {
          "base_uri": "https://localhost:8080/"
        },
        "id": "tsUvAZxmznk6",
        "outputId": "6151551a-22c2-4caa-df6f-41fd6f99569f"
      },
      "outputs": [
        {
          "output_type": "execute_result",
          "data": {
            "text/plain": [
              "array(['Resale', 'New Property', nan, 'Other', 'Rent/Lease'], dtype=object)"
            ]
          },
          "metadata": {},
          "execution_count": 1252
        }
      ],
      "source": [
        "data['Transaction'].unique()"
      ]
    },
    {
      "cell_type": "code",
      "execution_count": 1253,
      "metadata": {
        "colab": {
          "base_uri": "https://localhost:8080/"
        },
        "id": "p2zUX1AB0F29",
        "outputId": "07fb8e78-c759-4874-d06c-03dafd590cd4"
      },
      "outputs": [
        {
          "output_type": "execute_result",
          "data": {
            "text/plain": [
              "array(['Unfurnished', 'Semi-Furnished', 'Furnished', nan], dtype=object)"
            ]
          },
          "metadata": {},
          "execution_count": 1253
        }
      ],
      "source": [
        "data['Furnishing'].unique()"
      ]
    },
    {
      "cell_type": "markdown",
      "metadata": {
        "id": "nB95hGUZsNLK"
      },
      "source": [
        "Удалим столбцы 'Dimensions', 'Plot Area', 'Status'"
      ]
    },
    {
      "cell_type": "code",
      "execution_count": 1254,
      "metadata": {
        "id": "Y5e83TMNBPvS"
      },
      "outputs": [],
      "source": [
        "if('Dimensions' in data.columns): del data['Dimensions']\n",
        "if('Plot Area' in data.columns): del data['Plot Area']\n",
        "if('Status' in data.columns): del data['Status']"
      ]
    },
    {
      "cell_type": "markdown",
      "source": [
        "# Преобразуем значения строк в числовой тип данных"
      ],
      "metadata": {
        "id": "dvzSL4KHDW8e"
      }
    },
    {
      "cell_type": "markdown",
      "metadata": {
        "id": "tg5652nks4NV"
      },
      "source": [
        "Можно заметить, что полезная информация в некоторых столбцах представлена строкой. Преобразуем значения этих столбцов в числовой тип данных."
      ]
    },
    {
      "cell_type": "markdown",
      "metadata": {
        "id": "YGobe599s-SO"
      },
      "source": [
        "Выделим из столбца 'Carpet Area' значения площади и внесем его в столбец 'square'"
      ]
    },
    {
      "cell_type": "code",
      "execution_count": 1255,
      "metadata": {
        "id": "NhM0DJMv6-wf",
        "colab": {
          "base_uri": "https://localhost:8080/"
        },
        "outputId": "b4cb21f1-49d9-4c66-db04-251e0ebddb90"
      },
      "outputs": [
        {
          "output_type": "stream",
          "name": "stdout",
          "text": [
            "nan\n"
          ]
        }
      ],
      "source": [
        "import re\n",
        "re_digits = re.compile(r\"\\b\\d+\\b\")\n",
        "def assign_square(row):\n",
        "  if type(row['Carpet Area']) == float:\n",
        "      return np.nan\n",
        "  else:\n",
        "      res = re.split(\",| \", row['Carpet Area']);\n",
        "      back = res[len(res) - 1]\n",
        "      res.pop()\n",
        "      val = int(''.join(res))\n",
        "      if back == 'sqyrd':\n",
        "        val = val * 9.0\n",
        "      elif back == 'sqm':\n",
        "        val = val * 10.764\n",
        "      elif back == 'sqft':\n",
        "        val = val * 1.0\n",
        "      elif back == 'marla':\n",
        "        val = val * 272.25\n",
        "      elif back == 'kanal':\n",
        "        val = val * 5445.0\n",
        "      elif back == 'ground':\n",
        "        val = val * 2400.352\n",
        "      elif back == 'aankadam':\n",
        "        val = val * 72.0\n",
        "      elif back == 'biswa2':\n",
        "        val = val * 1350.0\n",
        "      elif back == 'acre':\n",
        "        val = val * 43560.0\n",
        "      elif back == 'hectare':\n",
        "        val = val * 107639.0\n",
        "      elif back == 'cent':\n",
        "        val = val * 435.56\n",
        "      else:\n",
        "        print(row['Super Area'])\n",
        "      return round(val)\n",
        "data['square'] = data.apply(assign_square, axis=1)"
      ]
    },
    {
      "cell_type": "markdown",
      "metadata": {
        "id": "lW5fdJZ7uglM"
      },
      "source": [
        "Выделим из столбца 'Title' количество комнат и внесем его в столбец 'count_room'. В столбце 'Society' и 'Title' дублируется информация о названии жилого комплекса, но не все строки в столбце 'Society' заполнены. Заполним пропуски в столбце 'Society' значениями из столбца 'Title'."
      ]
    },
    {
      "cell_type": "code",
      "execution_count": 1256,
      "metadata": {
        "id": "R_G4TU8XwUV8"
      },
      "outputs": [],
      "source": [
        "import re\n",
        "re_digits = re.compile(r\"\\b\\d+\\b\")\n",
        "def assign_count_room(row):\n",
        "    res = re_digits.findall(row['Title'])\n",
        "    if(len(res) > 0):\n",
        "      return int(res[0])\n",
        "    else:\n",
        "      return np.nan\n",
        "data['count_room'] = data.apply(assign_count_room, axis=1)"
      ]
    },
    {
      "cell_type": "code",
      "execution_count": 1257,
      "metadata": {
        "id": "MfSeVJGO6LQF"
      },
      "outputs": [],
      "source": [
        "def assign_society(row):\n",
        "    res = row['Title'].split()\n",
        "    if('in' in res):\n",
        "      if(res.index('in') == res.index('sale') + 1):\n",
        "        return (' '.join(res[res.index('in')+1:]))\n",
        "    else:\n",
        "        return (' '.join(res[res.index('sale')+1:]))\n",
        "data['Society'] = data.apply(assign_society, axis=1)"
      ]
    },
    {
      "cell_type": "markdown",
      "source": [
        "Выделим из столбца 'Amount' стоимость квартиры и внесем его в этот же столбец"
      ],
      "metadata": {
        "id": "swnXfg-8AaHF"
      }
    },
    {
      "cell_type": "code",
      "source": [
        "def assign_amount(row):\n",
        "    res = row['Amount'].split()\n",
        "    if len(res) == 2:\n",
        "      cost = float(res[0])\n",
        "      if res[1] == 'Lac':\n",
        "        cost = cost * 1e5\n",
        "      elif res[1] == 'Cr':\n",
        "        cost = cost * 1e7\n",
        "      return cost\n",
        "    else:\n",
        "        return np.nan\n",
        "data['Amount'] = data.apply(assign_amount, axis=1)"
      ],
      "metadata": {
        "id": "nyYL0VqVAmhs"
      },
      "execution_count": 1258,
      "outputs": []
    },
    {
      "cell_type": "markdown",
      "source": [
        "Выделим из столбца 'floor' кол-во квартир и максимальное кол-во квартир и внесем его в столбец 'floor' и 'max_floor' соответственно."
      ],
      "metadata": {
        "id": "4EG4zL2jC-x8"
      }
    },
    {
      "cell_type": "code",
      "source": [
        "import re\n",
        "re_digits = re.compile(r\"\\b\\d+\\b\")\n",
        "def assign_max_floor(row):\n",
        "    #print(row['Floor'])\n",
        "    if type(row['Floor']) == float:\n",
        "      return np.nan\n",
        "    else:\n",
        "      res = re.findall(re_digits, row['Floor'])\n",
        "      if len(res) == 2:\n",
        "        return int(res[1])\n",
        "      else:\n",
        "        return np.nan\n",
        "data['max_floor'] = data.apply(assign_max_floor, axis=1)"
      ],
      "metadata": {
        "id": "-kbsGJuXC_Ig"
      },
      "execution_count": 1259,
      "outputs": []
    },
    {
      "cell_type": "code",
      "source": [
        "import re\n",
        "re_digits = re.compile(r\"\\b\\d+\\b\")\n",
        "def assign_floor(row):\n",
        "   #print(row['Floor'])\n",
        "    if type(row['Floor']) == float:\n",
        "      return np.nan\n",
        "    else:\n",
        "      res = re.findall(re_digits, row['Floor'])\n",
        "      if len(res) == 2:\n",
        "        return int(res[0])\n",
        "      else:\n",
        "        return np.nan\n",
        "data['Floor'] = data.apply(assign_floor, axis=1)"
      ],
      "metadata": {
        "id": "ORmNTGzLEjDj"
      },
      "execution_count": 1260,
      "outputs": []
    },
    {
      "cell_type": "markdown",
      "source": [
        "Выделим из столбца 'Car Parking' кол-во парковочных мест и тип парковочного места и внесем его в столбец 'count_parking_place' и 'type_parking_place' соответственно."
      ],
      "metadata": {
        "id": "lEKgcPF0TEy9"
      }
    },
    {
      "cell_type": "code",
      "source": [
        "def assign_count_pp(row):\n",
        "   #print(row['Floor'])\n",
        "    if type(row['Car Parking']) == float:\n",
        "      return np.nan\n",
        "    else:\n",
        "      res = row['Car Parking'].split();\n",
        "      return int(res[0])\n",
        "data['count_parking_place'] = data.apply(assign_count_pp, axis=1)"
      ],
      "metadata": {
        "id": "-4tfAcWfTW7f"
      },
      "execution_count": 1261,
      "outputs": []
    },
    {
      "cell_type": "code",
      "source": [
        "def assign_type_pp(row):\n",
        "   #print(row['Floor'])\n",
        "    if type(row['Car Parking']) == float:\n",
        "      return np.nan\n",
        "    else:\n",
        "      res = row['Car Parking'].split()[1];\n",
        "      if(res[-1] == ','):\n",
        "        res = res[:-1]\n",
        "      return res\n",
        "data['type_parking_place'] = data.apply(assign_type_pp, axis=1)"
      ],
      "metadata": {
        "id": "v-aIXp3bUbLX"
      },
      "execution_count": 1262,
      "outputs": []
    },
    {
      "cell_type": "markdown",
      "source": [
        "Выделим из столбца 'Super Area' значения суперплощади и переведем ее в футы. Кроме того, не все строки в столбце 'Super Area' заполнены. Воспользуемся тем, что Super Area равен отношению Amount и Price. Заполним пропуски в столбце 'Super Area'"
      ],
      "metadata": {
        "id": "1F6nIQOjNm2r"
      }
    },
    {
      "cell_type": "code",
      "source": [
        "def assign_super_area(row):\n",
        "    if type(row['Super Area']) == float:\n",
        "      if np.isnan(row['Amount']) | np.isnan(row['Price']):\n",
        "        return np.nan\n",
        "      else:\n",
        "        if(row['Price'] > 0):\n",
        "          return round(row['Amount'] / row['Price'])\n",
        "        else:\n",
        "          return np.nan\n",
        "    else:\n",
        "      res = re.split(\",| \", row['Super Area']);\n",
        "      back = res[len(res) - 1]\n",
        "      res.pop()\n",
        "      val = int(''.join(res))\n",
        "      if back == 'sqyrd':\n",
        "        val = val * 9.0\n",
        "      elif back == 'sqm':\n",
        "        val = val * 10.764\n",
        "      elif back == 'sqft':\n",
        "        val = val * 1.0\n",
        "      elif back == 'marla':\n",
        "        val = val * 272.25\n",
        "      elif back == 'kanal':\n",
        "        val = val * 5445.0\n",
        "      elif back == 'ground':\n",
        "        val = val * 2400.352\n",
        "      elif back == 'aankadam':\n",
        "        val = val * 72.0\n",
        "      elif back == 'aankadam':\n",
        "        val = val * 72.0\n",
        "      elif back == 'biswa2':\n",
        "        val = val * 1350.0\n",
        "      elif back == 'acre':\n",
        "        val = val * 43560.0\n",
        "      elif back == 'hectare':\n",
        "        val = val * 107639.0\n",
        "      elif back == 'cent':\n",
        "        val = val * 435.56\n",
        "      else:\n",
        "        print(row['Super Area'])\n",
        "      return round(val)\n",
        "data['Super Area'] = data.apply(assign_super_area, axis=1)"
      ],
      "metadata": {
        "id": "4rnxM_I0V2Ld"
      },
      "execution_count": 1263,
      "outputs": []
    },
    {
      "cell_type": "markdown",
      "source": [
        "Поменяем тип данных столбцов 'Balcony' и 'Bathroom'"
      ],
      "metadata": {
        "id": "CcJxptuVq7CN"
      }
    },
    {
      "cell_type": "code",
      "source": [
        "import re\n",
        "re_digits = re.compile(r\"\\b\\d+\\b\")\n",
        "def assign_balcony(row):\n",
        "  if type(row['Balcony']) == float:\n",
        "      return np.nan\n",
        "  else:\n",
        "    #print(row['Balcony'])\n",
        "    res = re.findall(re_digits, row['Balcony'])\n",
        "    #print(res)\n",
        "    return int(res[0])\n",
        "data['Balcony'] = data.apply(assign_balcony, axis=1)\n",
        "\n",
        "def assign_bathroom(row):\n",
        "  if type(row['Bathroom']) == float:\n",
        "      return np.nan\n",
        "  else:\n",
        "    res = re.findall(re_digits, row['Bathroom'])\n",
        "    return int(res[0])\n",
        "data['Bathroom'] = data.apply(assign_bathroom, axis=1)"
      ],
      "metadata": {
        "id": "mGC3hPrWrC2g"
      },
      "execution_count": 1264,
      "outputs": []
    },
    {
      "cell_type": "markdown",
      "metadata": {
        "id": "s_CxUEL39Q7Q"
      },
      "source": [
        "Можем удалить столбцы 'Title' и 'Carpet Area', так как вся полезная информация есть в столбцах 'count_room', 'Society' и 'square'. Столбец 'Description' хранит информацию о местоположении недвижимости, кол-ве комнат, готовность к заселению. Так как эта информация есть в других полях, то также можем удалить этот столбец."
      ]
    },
    {
      "cell_type": "code",
      "execution_count": 1265,
      "metadata": {
        "id": "RwBLaFVX9M6u"
      },
      "outputs": [],
      "source": [
        "if('Title' in data.columns): del data['Title']\n",
        "if('Carpet Area' in data.columns): del data['Carpet Area']\n",
        "if('Description' in data.columns): del data['Description']\n",
        "if('Car Parking' in data.columns): del data['Car Parking']\n",
        "if('Index' in data.columns): del data['Index']\n",
        "# Для увеличения кол-ва данных без nan удалим эти столбцы\n",
        "if('overlooking' in data.columns): del data['overlooking']\n",
        "if('facing' in data.columns): del data['facing']"
      ]
    },
    {
      "cell_type": "markdown",
      "source": [
        "После преобразований данные выглядят так:"
      ],
      "metadata": {
        "id": "IgaVJPDQlNfZ"
      }
    },
    {
      "cell_type": "code",
      "execution_count": 1266,
      "metadata": {
        "colab": {
          "base_uri": "https://localhost:8080/",
          "height": 538
        },
        "id": "IDDr5Gu0uZC0",
        "outputId": "491559b1-666d-4a47-c689-88f3b720fc9d"
      },
      "outputs": [
        {
          "output_type": "execute_result",
          "data": {
            "text/plain": [
              "       Amount    Price location  Floor Transaction      Furnishing  \\\n",
              "0   4200000.0   6000.0    thane   10.0      Resale     Unfurnished   \n",
              "1   9800000.0  13799.0    thane    3.0      Resale  Semi-Furnished   \n",
              "2  14000000.0  17500.0    thane   10.0      Resale     Unfurnished   \n",
              "3   2500000.0      NaN    thane    1.0      Resale     Unfurnished   \n",
              "4  16000000.0  18824.0    thane   20.0      Resale     Unfurnished   \n",
              "\n",
              "                                        Society  Bathroom  Balcony  \\\n",
              "0  Srushti Siddhi Mangal Murti Complex Bhiwandi       1.0      2.0   \n",
              "1                      Dosti Vihar Pokhran Road       2.0      NaN   \n",
              "2             Sunrise by Kalpataru Kolshet Road       2.0      NaN   \n",
              "3                                       Kasheli       1.0      1.0   \n",
              "4      TenX Habitat Raymond Realty Pokhran Road       2.0      NaN   \n",
              "\n",
              "              Ownership  Super Area  square  count_room  max_floor  \\\n",
              "0                   NaN       700.0   500.0         1.0       11.0   \n",
              "1              Freehold       710.0   473.0         2.0       22.0   \n",
              "2              Freehold       800.0   779.0         2.0       29.0   \n",
              "3                   NaN         NaN   530.0         1.0        3.0   \n",
              "4  Co-operative Society       850.0   635.0         2.0       42.0   \n",
              "\n",
              "   count_parking_place type_parking_place  \n",
              "0                  NaN                NaN  \n",
              "1                  1.0               Open  \n",
              "2                  1.0            Covered  \n",
              "3                  NaN                NaN  \n",
              "4                  1.0            Covered  "
            ],
            "text/html": [
              "\n",
              "  <div id=\"df-df6de84e-c409-4a89-ba17-f8822b808312\" class=\"colab-df-container\">\n",
              "    <div>\n",
              "<style scoped>\n",
              "    .dataframe tbody tr th:only-of-type {\n",
              "        vertical-align: middle;\n",
              "    }\n",
              "\n",
              "    .dataframe tbody tr th {\n",
              "        vertical-align: top;\n",
              "    }\n",
              "\n",
              "    .dataframe thead th {\n",
              "        text-align: right;\n",
              "    }\n",
              "</style>\n",
              "<table border=\"1\" class=\"dataframe\">\n",
              "  <thead>\n",
              "    <tr style=\"text-align: right;\">\n",
              "      <th></th>\n",
              "      <th>Amount</th>\n",
              "      <th>Price</th>\n",
              "      <th>location</th>\n",
              "      <th>Floor</th>\n",
              "      <th>Transaction</th>\n",
              "      <th>Furnishing</th>\n",
              "      <th>Society</th>\n",
              "      <th>Bathroom</th>\n",
              "      <th>Balcony</th>\n",
              "      <th>Ownership</th>\n",
              "      <th>Super Area</th>\n",
              "      <th>square</th>\n",
              "      <th>count_room</th>\n",
              "      <th>max_floor</th>\n",
              "      <th>count_parking_place</th>\n",
              "      <th>type_parking_place</th>\n",
              "    </tr>\n",
              "  </thead>\n",
              "  <tbody>\n",
              "    <tr>\n",
              "      <th>0</th>\n",
              "      <td>4200000.0</td>\n",
              "      <td>6000.0</td>\n",
              "      <td>thane</td>\n",
              "      <td>10.0</td>\n",
              "      <td>Resale</td>\n",
              "      <td>Unfurnished</td>\n",
              "      <td>Srushti Siddhi Mangal Murti Complex Bhiwandi</td>\n",
              "      <td>1.0</td>\n",
              "      <td>2.0</td>\n",
              "      <td>NaN</td>\n",
              "      <td>700.0</td>\n",
              "      <td>500.0</td>\n",
              "      <td>1.0</td>\n",
              "      <td>11.0</td>\n",
              "      <td>NaN</td>\n",
              "      <td>NaN</td>\n",
              "    </tr>\n",
              "    <tr>\n",
              "      <th>1</th>\n",
              "      <td>9800000.0</td>\n",
              "      <td>13799.0</td>\n",
              "      <td>thane</td>\n",
              "      <td>3.0</td>\n",
              "      <td>Resale</td>\n",
              "      <td>Semi-Furnished</td>\n",
              "      <td>Dosti Vihar Pokhran Road</td>\n",
              "      <td>2.0</td>\n",
              "      <td>NaN</td>\n",
              "      <td>Freehold</td>\n",
              "      <td>710.0</td>\n",
              "      <td>473.0</td>\n",
              "      <td>2.0</td>\n",
              "      <td>22.0</td>\n",
              "      <td>1.0</td>\n",
              "      <td>Open</td>\n",
              "    </tr>\n",
              "    <tr>\n",
              "      <th>2</th>\n",
              "      <td>14000000.0</td>\n",
              "      <td>17500.0</td>\n",
              "      <td>thane</td>\n",
              "      <td>10.0</td>\n",
              "      <td>Resale</td>\n",
              "      <td>Unfurnished</td>\n",
              "      <td>Sunrise by Kalpataru Kolshet Road</td>\n",
              "      <td>2.0</td>\n",
              "      <td>NaN</td>\n",
              "      <td>Freehold</td>\n",
              "      <td>800.0</td>\n",
              "      <td>779.0</td>\n",
              "      <td>2.0</td>\n",
              "      <td>29.0</td>\n",
              "      <td>1.0</td>\n",
              "      <td>Covered</td>\n",
              "    </tr>\n",
              "    <tr>\n",
              "      <th>3</th>\n",
              "      <td>2500000.0</td>\n",
              "      <td>NaN</td>\n",
              "      <td>thane</td>\n",
              "      <td>1.0</td>\n",
              "      <td>Resale</td>\n",
              "      <td>Unfurnished</td>\n",
              "      <td>Kasheli</td>\n",
              "      <td>1.0</td>\n",
              "      <td>1.0</td>\n",
              "      <td>NaN</td>\n",
              "      <td>NaN</td>\n",
              "      <td>530.0</td>\n",
              "      <td>1.0</td>\n",
              "      <td>3.0</td>\n",
              "      <td>NaN</td>\n",
              "      <td>NaN</td>\n",
              "    </tr>\n",
              "    <tr>\n",
              "      <th>4</th>\n",
              "      <td>16000000.0</td>\n",
              "      <td>18824.0</td>\n",
              "      <td>thane</td>\n",
              "      <td>20.0</td>\n",
              "      <td>Resale</td>\n",
              "      <td>Unfurnished</td>\n",
              "      <td>TenX Habitat Raymond Realty Pokhran Road</td>\n",
              "      <td>2.0</td>\n",
              "      <td>NaN</td>\n",
              "      <td>Co-operative Society</td>\n",
              "      <td>850.0</td>\n",
              "      <td>635.0</td>\n",
              "      <td>2.0</td>\n",
              "      <td>42.0</td>\n",
              "      <td>1.0</td>\n",
              "      <td>Covered</td>\n",
              "    </tr>\n",
              "  </tbody>\n",
              "</table>\n",
              "</div>\n",
              "    <div class=\"colab-df-buttons\">\n",
              "\n",
              "  <div class=\"colab-df-container\">\n",
              "    <button class=\"colab-df-convert\" onclick=\"convertToInteractive('df-df6de84e-c409-4a89-ba17-f8822b808312')\"\n",
              "            title=\"Convert this dataframe to an interactive table.\"\n",
              "            style=\"display:none;\">\n",
              "\n",
              "  <svg xmlns=\"http://www.w3.org/2000/svg\" height=\"24px\" viewBox=\"0 -960 960 960\">\n",
              "    <path d=\"M120-120v-720h720v720H120Zm60-500h600v-160H180v160Zm220 220h160v-160H400v160Zm0 220h160v-160H400v160ZM180-400h160v-160H180v160Zm440 0h160v-160H620v160ZM180-180h160v-160H180v160Zm440 0h160v-160H620v160Z\"/>\n",
              "  </svg>\n",
              "    </button>\n",
              "\n",
              "  <style>\n",
              "    .colab-df-container {\n",
              "      display:flex;\n",
              "      gap: 12px;\n",
              "    }\n",
              "\n",
              "    .colab-df-convert {\n",
              "      background-color: #E8F0FE;\n",
              "      border: none;\n",
              "      border-radius: 50%;\n",
              "      cursor: pointer;\n",
              "      display: none;\n",
              "      fill: #1967D2;\n",
              "      height: 32px;\n",
              "      padding: 0 0 0 0;\n",
              "      width: 32px;\n",
              "    }\n",
              "\n",
              "    .colab-df-convert:hover {\n",
              "      background-color: #E2EBFA;\n",
              "      box-shadow: 0px 1px 2px rgba(60, 64, 67, 0.3), 0px 1px 3px 1px rgba(60, 64, 67, 0.15);\n",
              "      fill: #174EA6;\n",
              "    }\n",
              "\n",
              "    .colab-df-buttons div {\n",
              "      margin-bottom: 4px;\n",
              "    }\n",
              "\n",
              "    [theme=dark] .colab-df-convert {\n",
              "      background-color: #3B4455;\n",
              "      fill: #D2E3FC;\n",
              "    }\n",
              "\n",
              "    [theme=dark] .colab-df-convert:hover {\n",
              "      background-color: #434B5C;\n",
              "      box-shadow: 0px 1px 3px 1px rgba(0, 0, 0, 0.15);\n",
              "      filter: drop-shadow(0px 1px 2px rgba(0, 0, 0, 0.3));\n",
              "      fill: #FFFFFF;\n",
              "    }\n",
              "  </style>\n",
              "\n",
              "    <script>\n",
              "      const buttonEl =\n",
              "        document.querySelector('#df-df6de84e-c409-4a89-ba17-f8822b808312 button.colab-df-convert');\n",
              "      buttonEl.style.display =\n",
              "        google.colab.kernel.accessAllowed ? 'block' : 'none';\n",
              "\n",
              "      async function convertToInteractive(key) {\n",
              "        const element = document.querySelector('#df-df6de84e-c409-4a89-ba17-f8822b808312');\n",
              "        const dataTable =\n",
              "          await google.colab.kernel.invokeFunction('convertToInteractive',\n",
              "                                                    [key], {});\n",
              "        if (!dataTable) return;\n",
              "\n",
              "        const docLinkHtml = 'Like what you see? Visit the ' +\n",
              "          '<a target=\"_blank\" href=https://colab.research.google.com/notebooks/data_table.ipynb>data table notebook</a>'\n",
              "          + ' to learn more about interactive tables.';\n",
              "        element.innerHTML = '';\n",
              "        dataTable['output_type'] = 'display_data';\n",
              "        await google.colab.output.renderOutput(dataTable, element);\n",
              "        const docLink = document.createElement('div');\n",
              "        docLink.innerHTML = docLinkHtml;\n",
              "        element.appendChild(docLink);\n",
              "      }\n",
              "    </script>\n",
              "  </div>\n",
              "\n",
              "\n",
              "<div id=\"df-915ff50e-8f15-4293-b856-833102e0e7bb\">\n",
              "  <button class=\"colab-df-quickchart\" onclick=\"quickchart('df-915ff50e-8f15-4293-b856-833102e0e7bb')\"\n",
              "            title=\"Suggest charts\"\n",
              "            style=\"display:none;\">\n",
              "\n",
              "<svg xmlns=\"http://www.w3.org/2000/svg\" height=\"24px\"viewBox=\"0 0 24 24\"\n",
              "     width=\"24px\">\n",
              "    <g>\n",
              "        <path d=\"M19 3H5c-1.1 0-2 .9-2 2v14c0 1.1.9 2 2 2h14c1.1 0 2-.9 2-2V5c0-1.1-.9-2-2-2zM9 17H7v-7h2v7zm4 0h-2V7h2v10zm4 0h-2v-4h2v4z\"/>\n",
              "    </g>\n",
              "</svg>\n",
              "  </button>\n",
              "\n",
              "<style>\n",
              "  .colab-df-quickchart {\n",
              "      --bg-color: #E8F0FE;\n",
              "      --fill-color: #1967D2;\n",
              "      --hover-bg-color: #E2EBFA;\n",
              "      --hover-fill-color: #174EA6;\n",
              "      --disabled-fill-color: #AAA;\n",
              "      --disabled-bg-color: #DDD;\n",
              "  }\n",
              "\n",
              "  [theme=dark] .colab-df-quickchart {\n",
              "      --bg-color: #3B4455;\n",
              "      --fill-color: #D2E3FC;\n",
              "      --hover-bg-color: #434B5C;\n",
              "      --hover-fill-color: #FFFFFF;\n",
              "      --disabled-bg-color: #3B4455;\n",
              "      --disabled-fill-color: #666;\n",
              "  }\n",
              "\n",
              "  .colab-df-quickchart {\n",
              "    background-color: var(--bg-color);\n",
              "    border: none;\n",
              "    border-radius: 50%;\n",
              "    cursor: pointer;\n",
              "    display: none;\n",
              "    fill: var(--fill-color);\n",
              "    height: 32px;\n",
              "    padding: 0;\n",
              "    width: 32px;\n",
              "  }\n",
              "\n",
              "  .colab-df-quickchart:hover {\n",
              "    background-color: var(--hover-bg-color);\n",
              "    box-shadow: 0 1px 2px rgba(60, 64, 67, 0.3), 0 1px 3px 1px rgba(60, 64, 67, 0.15);\n",
              "    fill: var(--button-hover-fill-color);\n",
              "  }\n",
              "\n",
              "  .colab-df-quickchart-complete:disabled,\n",
              "  .colab-df-quickchart-complete:disabled:hover {\n",
              "    background-color: var(--disabled-bg-color);\n",
              "    fill: var(--disabled-fill-color);\n",
              "    box-shadow: none;\n",
              "  }\n",
              "\n",
              "  .colab-df-spinner {\n",
              "    border: 2px solid var(--fill-color);\n",
              "    border-color: transparent;\n",
              "    border-bottom-color: var(--fill-color);\n",
              "    animation:\n",
              "      spin 1s steps(1) infinite;\n",
              "  }\n",
              "\n",
              "  @keyframes spin {\n",
              "    0% {\n",
              "      border-color: transparent;\n",
              "      border-bottom-color: var(--fill-color);\n",
              "      border-left-color: var(--fill-color);\n",
              "    }\n",
              "    20% {\n",
              "      border-color: transparent;\n",
              "      border-left-color: var(--fill-color);\n",
              "      border-top-color: var(--fill-color);\n",
              "    }\n",
              "    30% {\n",
              "      border-color: transparent;\n",
              "      border-left-color: var(--fill-color);\n",
              "      border-top-color: var(--fill-color);\n",
              "      border-right-color: var(--fill-color);\n",
              "    }\n",
              "    40% {\n",
              "      border-color: transparent;\n",
              "      border-right-color: var(--fill-color);\n",
              "      border-top-color: var(--fill-color);\n",
              "    }\n",
              "    60% {\n",
              "      border-color: transparent;\n",
              "      border-right-color: var(--fill-color);\n",
              "    }\n",
              "    80% {\n",
              "      border-color: transparent;\n",
              "      border-right-color: var(--fill-color);\n",
              "      border-bottom-color: var(--fill-color);\n",
              "    }\n",
              "    90% {\n",
              "      border-color: transparent;\n",
              "      border-bottom-color: var(--fill-color);\n",
              "    }\n",
              "  }\n",
              "</style>\n",
              "\n",
              "  <script>\n",
              "    async function quickchart(key) {\n",
              "      const quickchartButtonEl =\n",
              "        document.querySelector('#' + key + ' button');\n",
              "      quickchartButtonEl.disabled = true;  // To prevent multiple clicks.\n",
              "      quickchartButtonEl.classList.add('colab-df-spinner');\n",
              "      try {\n",
              "        const charts = await google.colab.kernel.invokeFunction(\n",
              "            'suggestCharts', [key], {});\n",
              "      } catch (error) {\n",
              "        console.error('Error during call to suggestCharts:', error);\n",
              "      }\n",
              "      quickchartButtonEl.classList.remove('colab-df-spinner');\n",
              "      quickchartButtonEl.classList.add('colab-df-quickchart-complete');\n",
              "    }\n",
              "    (() => {\n",
              "      let quickchartButtonEl =\n",
              "        document.querySelector('#df-915ff50e-8f15-4293-b856-833102e0e7bb button');\n",
              "      quickchartButtonEl.style.display =\n",
              "        google.colab.kernel.accessAllowed ? 'block' : 'none';\n",
              "    })();\n",
              "  </script>\n",
              "</div>\n",
              "    </div>\n",
              "  </div>\n"
            ]
          },
          "metadata": {},
          "execution_count": 1266
        }
      ],
      "source": [
        "data.head()"
      ]
    },
    {
      "cell_type": "code",
      "source": [
        "data.info()"
      ],
      "metadata": {
        "colab": {
          "base_uri": "https://localhost:8080/"
        },
        "id": "63xbjvEpqhd0",
        "outputId": "edb6ed10-5dd3-4d07-beb1-a2c231e227af"
      },
      "execution_count": 1267,
      "outputs": [
        {
          "output_type": "stream",
          "name": "stdout",
          "text": [
            "<class 'pandas.core.frame.DataFrame'>\n",
            "RangeIndex: 187531 entries, 0 to 187530\n",
            "Data columns (total 16 columns):\n",
            " #   Column               Non-Null Count   Dtype  \n",
            "---  ------               --------------   -----  \n",
            " 0   Amount               177847 non-null  float64\n",
            " 1   Price                169866 non-null  float64\n",
            " 2   location             187531 non-null  object \n",
            " 3   Floor                167694 non-null  float64\n",
            " 4   Transaction          187448 non-null  object \n",
            " 5   Furnishing           184634 non-null  object \n",
            " 6   Society              187525 non-null  object \n",
            " 7   Bathroom             186703 non-null  float64\n",
            " 8   Balcony              138596 non-null  float64\n",
            " 9   Ownership            122014 non-null  object \n",
            " 10  Super Area           173470 non-null  float64\n",
            " 11  square               106858 non-null  float64\n",
            " 12  count_room           186674 non-null  float64\n",
            " 13  max_floor            167694 non-null  float64\n",
            " 14  count_parking_place  84174 non-null   float64\n",
            " 15  type_parking_place   84174 non-null   object \n",
            "dtypes: float64(10), object(6)\n",
            "memory usage: 22.9+ MB\n"
          ]
        }
      ]
    },
    {
      "cell_type": "markdown",
      "source": [
        "Можно заметить, что кол-во значений в столбце 'Super Area' и 'Society', отличных от nan, значительно увеличилось"
      ],
      "metadata": {
        "id": "AVsTBYsh2cAp"
      }
    },
    {
      "cell_type": "markdown",
      "source": [
        "Оставим только строки без nan"
      ],
      "metadata": {
        "id": "alL0o600lS_G"
      }
    },
    {
      "cell_type": "code",
      "source": [
        "data = data.dropna()\n",
        "data.describe()"
      ],
      "metadata": {
        "colab": {
          "base_uri": "https://localhost:8080/",
          "height": 320
        },
        "id": "73MJ0fl0lZVs",
        "outputId": "b85ce9a3-87cf-44fd-d1cf-c8bc242c841a"
      },
      "execution_count": 1268,
      "outputs": [
        {
          "output_type": "execute_result",
          "data": {
            "text/plain": [
              "             Amount         Price         Floor     Bathroom       Balcony  \\\n",
              "count  5.173100e+04  5.173100e+04  51731.000000  51731.00000  51731.000000   \n",
              "mean   1.700416e+07  8.843141e+03      5.546925      2.80358      2.276527   \n",
              "std    3.448093e+07  2.652436e+04      4.649050      0.89457      1.030740   \n",
              "min    3.000000e+05  4.000000e+00      1.000000      1.00000      1.000000   \n",
              "25%    6.400000e+06  5.000000e+03      2.000000      2.00000      1.000000   \n",
              "50%    1.210000e+07  7.337000e+03      4.000000      3.00000      2.000000   \n",
              "75%    2.100000e+07  1.116700e+04      7.000000      3.00000      3.000000   \n",
              "max    5.100400e+09  4.041600e+06     75.000000     10.00000     10.000000   \n",
              "\n",
              "          Super Area         square    count_room     max_floor  \\\n",
              "count   51731.000000   51731.000000  51731.000000  51731.000000   \n",
              "mean     1754.799869    1462.535772      2.952659     10.192496   \n",
              "std      3478.932896    1523.237041      1.200385      7.799769   \n",
              "min       210.000000       1.000000      1.000000      1.000000   \n",
              "25%      1200.000000     908.000000      2.000000      4.000000   \n",
              "50%      1620.000000    1323.000000      3.000000      8.000000   \n",
              "75%      2025.000000    1700.000000      3.000000     14.000000   \n",
              "max    750000.000000  194936.000000     94.000000     91.000000   \n",
              "\n",
              "       count_parking_place  \n",
              "count         51731.000000  \n",
              "mean              4.823607  \n",
              "std              35.975681  \n",
              "min               1.000000  \n",
              "25%               1.000000  \n",
              "50%               1.000000  \n",
              "75%               2.000000  \n",
              "max             999.000000  "
            ],
            "text/html": [
              "\n",
              "  <div id=\"df-f75b6be3-11ed-442c-b15b-1a2a3fe7b7d8\" class=\"colab-df-container\">\n",
              "    <div>\n",
              "<style scoped>\n",
              "    .dataframe tbody tr th:only-of-type {\n",
              "        vertical-align: middle;\n",
              "    }\n",
              "\n",
              "    .dataframe tbody tr th {\n",
              "        vertical-align: top;\n",
              "    }\n",
              "\n",
              "    .dataframe thead th {\n",
              "        text-align: right;\n",
              "    }\n",
              "</style>\n",
              "<table border=\"1\" class=\"dataframe\">\n",
              "  <thead>\n",
              "    <tr style=\"text-align: right;\">\n",
              "      <th></th>\n",
              "      <th>Amount</th>\n",
              "      <th>Price</th>\n",
              "      <th>Floor</th>\n",
              "      <th>Bathroom</th>\n",
              "      <th>Balcony</th>\n",
              "      <th>Super Area</th>\n",
              "      <th>square</th>\n",
              "      <th>count_room</th>\n",
              "      <th>max_floor</th>\n",
              "      <th>count_parking_place</th>\n",
              "    </tr>\n",
              "  </thead>\n",
              "  <tbody>\n",
              "    <tr>\n",
              "      <th>count</th>\n",
              "      <td>5.173100e+04</td>\n",
              "      <td>5.173100e+04</td>\n",
              "      <td>51731.000000</td>\n",
              "      <td>51731.00000</td>\n",
              "      <td>51731.000000</td>\n",
              "      <td>51731.000000</td>\n",
              "      <td>51731.000000</td>\n",
              "      <td>51731.000000</td>\n",
              "      <td>51731.000000</td>\n",
              "      <td>51731.000000</td>\n",
              "    </tr>\n",
              "    <tr>\n",
              "      <th>mean</th>\n",
              "      <td>1.700416e+07</td>\n",
              "      <td>8.843141e+03</td>\n",
              "      <td>5.546925</td>\n",
              "      <td>2.80358</td>\n",
              "      <td>2.276527</td>\n",
              "      <td>1754.799869</td>\n",
              "      <td>1462.535772</td>\n",
              "      <td>2.952659</td>\n",
              "      <td>10.192496</td>\n",
              "      <td>4.823607</td>\n",
              "    </tr>\n",
              "    <tr>\n",
              "      <th>std</th>\n",
              "      <td>3.448093e+07</td>\n",
              "      <td>2.652436e+04</td>\n",
              "      <td>4.649050</td>\n",
              "      <td>0.89457</td>\n",
              "      <td>1.030740</td>\n",
              "      <td>3478.932896</td>\n",
              "      <td>1523.237041</td>\n",
              "      <td>1.200385</td>\n",
              "      <td>7.799769</td>\n",
              "      <td>35.975681</td>\n",
              "    </tr>\n",
              "    <tr>\n",
              "      <th>min</th>\n",
              "      <td>3.000000e+05</td>\n",
              "      <td>4.000000e+00</td>\n",
              "      <td>1.000000</td>\n",
              "      <td>1.00000</td>\n",
              "      <td>1.000000</td>\n",
              "      <td>210.000000</td>\n",
              "      <td>1.000000</td>\n",
              "      <td>1.000000</td>\n",
              "      <td>1.000000</td>\n",
              "      <td>1.000000</td>\n",
              "    </tr>\n",
              "    <tr>\n",
              "      <th>25%</th>\n",
              "      <td>6.400000e+06</td>\n",
              "      <td>5.000000e+03</td>\n",
              "      <td>2.000000</td>\n",
              "      <td>2.00000</td>\n",
              "      <td>1.000000</td>\n",
              "      <td>1200.000000</td>\n",
              "      <td>908.000000</td>\n",
              "      <td>2.000000</td>\n",
              "      <td>4.000000</td>\n",
              "      <td>1.000000</td>\n",
              "    </tr>\n",
              "    <tr>\n",
              "      <th>50%</th>\n",
              "      <td>1.210000e+07</td>\n",
              "      <td>7.337000e+03</td>\n",
              "      <td>4.000000</td>\n",
              "      <td>3.00000</td>\n",
              "      <td>2.000000</td>\n",
              "      <td>1620.000000</td>\n",
              "      <td>1323.000000</td>\n",
              "      <td>3.000000</td>\n",
              "      <td>8.000000</td>\n",
              "      <td>1.000000</td>\n",
              "    </tr>\n",
              "    <tr>\n",
              "      <th>75%</th>\n",
              "      <td>2.100000e+07</td>\n",
              "      <td>1.116700e+04</td>\n",
              "      <td>7.000000</td>\n",
              "      <td>3.00000</td>\n",
              "      <td>3.000000</td>\n",
              "      <td>2025.000000</td>\n",
              "      <td>1700.000000</td>\n",
              "      <td>3.000000</td>\n",
              "      <td>14.000000</td>\n",
              "      <td>2.000000</td>\n",
              "    </tr>\n",
              "    <tr>\n",
              "      <th>max</th>\n",
              "      <td>5.100400e+09</td>\n",
              "      <td>4.041600e+06</td>\n",
              "      <td>75.000000</td>\n",
              "      <td>10.00000</td>\n",
              "      <td>10.000000</td>\n",
              "      <td>750000.000000</td>\n",
              "      <td>194936.000000</td>\n",
              "      <td>94.000000</td>\n",
              "      <td>91.000000</td>\n",
              "      <td>999.000000</td>\n",
              "    </tr>\n",
              "  </tbody>\n",
              "</table>\n",
              "</div>\n",
              "    <div class=\"colab-df-buttons\">\n",
              "\n",
              "  <div class=\"colab-df-container\">\n",
              "    <button class=\"colab-df-convert\" onclick=\"convertToInteractive('df-f75b6be3-11ed-442c-b15b-1a2a3fe7b7d8')\"\n",
              "            title=\"Convert this dataframe to an interactive table.\"\n",
              "            style=\"display:none;\">\n",
              "\n",
              "  <svg xmlns=\"http://www.w3.org/2000/svg\" height=\"24px\" viewBox=\"0 -960 960 960\">\n",
              "    <path d=\"M120-120v-720h720v720H120Zm60-500h600v-160H180v160Zm220 220h160v-160H400v160Zm0 220h160v-160H400v160ZM180-400h160v-160H180v160Zm440 0h160v-160H620v160ZM180-180h160v-160H180v160Zm440 0h160v-160H620v160Z\"/>\n",
              "  </svg>\n",
              "    </button>\n",
              "\n",
              "  <style>\n",
              "    .colab-df-container {\n",
              "      display:flex;\n",
              "      gap: 12px;\n",
              "    }\n",
              "\n",
              "    .colab-df-convert {\n",
              "      background-color: #E8F0FE;\n",
              "      border: none;\n",
              "      border-radius: 50%;\n",
              "      cursor: pointer;\n",
              "      display: none;\n",
              "      fill: #1967D2;\n",
              "      height: 32px;\n",
              "      padding: 0 0 0 0;\n",
              "      width: 32px;\n",
              "    }\n",
              "\n",
              "    .colab-df-convert:hover {\n",
              "      background-color: #E2EBFA;\n",
              "      box-shadow: 0px 1px 2px rgba(60, 64, 67, 0.3), 0px 1px 3px 1px rgba(60, 64, 67, 0.15);\n",
              "      fill: #174EA6;\n",
              "    }\n",
              "\n",
              "    .colab-df-buttons div {\n",
              "      margin-bottom: 4px;\n",
              "    }\n",
              "\n",
              "    [theme=dark] .colab-df-convert {\n",
              "      background-color: #3B4455;\n",
              "      fill: #D2E3FC;\n",
              "    }\n",
              "\n",
              "    [theme=dark] .colab-df-convert:hover {\n",
              "      background-color: #434B5C;\n",
              "      box-shadow: 0px 1px 3px 1px rgba(0, 0, 0, 0.15);\n",
              "      filter: drop-shadow(0px 1px 2px rgba(0, 0, 0, 0.3));\n",
              "      fill: #FFFFFF;\n",
              "    }\n",
              "  </style>\n",
              "\n",
              "    <script>\n",
              "      const buttonEl =\n",
              "        document.querySelector('#df-f75b6be3-11ed-442c-b15b-1a2a3fe7b7d8 button.colab-df-convert');\n",
              "      buttonEl.style.display =\n",
              "        google.colab.kernel.accessAllowed ? 'block' : 'none';\n",
              "\n",
              "      async function convertToInteractive(key) {\n",
              "        const element = document.querySelector('#df-f75b6be3-11ed-442c-b15b-1a2a3fe7b7d8');\n",
              "        const dataTable =\n",
              "          await google.colab.kernel.invokeFunction('convertToInteractive',\n",
              "                                                    [key], {});\n",
              "        if (!dataTable) return;\n",
              "\n",
              "        const docLinkHtml = 'Like what you see? Visit the ' +\n",
              "          '<a target=\"_blank\" href=https://colab.research.google.com/notebooks/data_table.ipynb>data table notebook</a>'\n",
              "          + ' to learn more about interactive tables.';\n",
              "        element.innerHTML = '';\n",
              "        dataTable['output_type'] = 'display_data';\n",
              "        await google.colab.output.renderOutput(dataTable, element);\n",
              "        const docLink = document.createElement('div');\n",
              "        docLink.innerHTML = docLinkHtml;\n",
              "        element.appendChild(docLink);\n",
              "      }\n",
              "    </script>\n",
              "  </div>\n",
              "\n",
              "\n",
              "<div id=\"df-e9d286e9-7f90-4fe7-ba3c-acb690710ab9\">\n",
              "  <button class=\"colab-df-quickchart\" onclick=\"quickchart('df-e9d286e9-7f90-4fe7-ba3c-acb690710ab9')\"\n",
              "            title=\"Suggest charts\"\n",
              "            style=\"display:none;\">\n",
              "\n",
              "<svg xmlns=\"http://www.w3.org/2000/svg\" height=\"24px\"viewBox=\"0 0 24 24\"\n",
              "     width=\"24px\">\n",
              "    <g>\n",
              "        <path d=\"M19 3H5c-1.1 0-2 .9-2 2v14c0 1.1.9 2 2 2h14c1.1 0 2-.9 2-2V5c0-1.1-.9-2-2-2zM9 17H7v-7h2v7zm4 0h-2V7h2v10zm4 0h-2v-4h2v4z\"/>\n",
              "    </g>\n",
              "</svg>\n",
              "  </button>\n",
              "\n",
              "<style>\n",
              "  .colab-df-quickchart {\n",
              "      --bg-color: #E8F0FE;\n",
              "      --fill-color: #1967D2;\n",
              "      --hover-bg-color: #E2EBFA;\n",
              "      --hover-fill-color: #174EA6;\n",
              "      --disabled-fill-color: #AAA;\n",
              "      --disabled-bg-color: #DDD;\n",
              "  }\n",
              "\n",
              "  [theme=dark] .colab-df-quickchart {\n",
              "      --bg-color: #3B4455;\n",
              "      --fill-color: #D2E3FC;\n",
              "      --hover-bg-color: #434B5C;\n",
              "      --hover-fill-color: #FFFFFF;\n",
              "      --disabled-bg-color: #3B4455;\n",
              "      --disabled-fill-color: #666;\n",
              "  }\n",
              "\n",
              "  .colab-df-quickchart {\n",
              "    background-color: var(--bg-color);\n",
              "    border: none;\n",
              "    border-radius: 50%;\n",
              "    cursor: pointer;\n",
              "    display: none;\n",
              "    fill: var(--fill-color);\n",
              "    height: 32px;\n",
              "    padding: 0;\n",
              "    width: 32px;\n",
              "  }\n",
              "\n",
              "  .colab-df-quickchart:hover {\n",
              "    background-color: var(--hover-bg-color);\n",
              "    box-shadow: 0 1px 2px rgba(60, 64, 67, 0.3), 0 1px 3px 1px rgba(60, 64, 67, 0.15);\n",
              "    fill: var(--button-hover-fill-color);\n",
              "  }\n",
              "\n",
              "  .colab-df-quickchart-complete:disabled,\n",
              "  .colab-df-quickchart-complete:disabled:hover {\n",
              "    background-color: var(--disabled-bg-color);\n",
              "    fill: var(--disabled-fill-color);\n",
              "    box-shadow: none;\n",
              "  }\n",
              "\n",
              "  .colab-df-spinner {\n",
              "    border: 2px solid var(--fill-color);\n",
              "    border-color: transparent;\n",
              "    border-bottom-color: var(--fill-color);\n",
              "    animation:\n",
              "      spin 1s steps(1) infinite;\n",
              "  }\n",
              "\n",
              "  @keyframes spin {\n",
              "    0% {\n",
              "      border-color: transparent;\n",
              "      border-bottom-color: var(--fill-color);\n",
              "      border-left-color: var(--fill-color);\n",
              "    }\n",
              "    20% {\n",
              "      border-color: transparent;\n",
              "      border-left-color: var(--fill-color);\n",
              "      border-top-color: var(--fill-color);\n",
              "    }\n",
              "    30% {\n",
              "      border-color: transparent;\n",
              "      border-left-color: var(--fill-color);\n",
              "      border-top-color: var(--fill-color);\n",
              "      border-right-color: var(--fill-color);\n",
              "    }\n",
              "    40% {\n",
              "      border-color: transparent;\n",
              "      border-right-color: var(--fill-color);\n",
              "      border-top-color: var(--fill-color);\n",
              "    }\n",
              "    60% {\n",
              "      border-color: transparent;\n",
              "      border-right-color: var(--fill-color);\n",
              "    }\n",
              "    80% {\n",
              "      border-color: transparent;\n",
              "      border-right-color: var(--fill-color);\n",
              "      border-bottom-color: var(--fill-color);\n",
              "    }\n",
              "    90% {\n",
              "      border-color: transparent;\n",
              "      border-bottom-color: var(--fill-color);\n",
              "    }\n",
              "  }\n",
              "</style>\n",
              "\n",
              "  <script>\n",
              "    async function quickchart(key) {\n",
              "      const quickchartButtonEl =\n",
              "        document.querySelector('#' + key + ' button');\n",
              "      quickchartButtonEl.disabled = true;  // To prevent multiple clicks.\n",
              "      quickchartButtonEl.classList.add('colab-df-spinner');\n",
              "      try {\n",
              "        const charts = await google.colab.kernel.invokeFunction(\n",
              "            'suggestCharts', [key], {});\n",
              "      } catch (error) {\n",
              "        console.error('Error during call to suggestCharts:', error);\n",
              "      }\n",
              "      quickchartButtonEl.classList.remove('colab-df-spinner');\n",
              "      quickchartButtonEl.classList.add('colab-df-quickchart-complete');\n",
              "    }\n",
              "    (() => {\n",
              "      let quickchartButtonEl =\n",
              "        document.querySelector('#df-e9d286e9-7f90-4fe7-ba3c-acb690710ab9 button');\n",
              "      quickchartButtonEl.style.display =\n",
              "        google.colab.kernel.accessAllowed ? 'block' : 'none';\n",
              "    })();\n",
              "  </script>\n",
              "</div>\n",
              "    </div>\n",
              "  </div>\n"
            ]
          },
          "metadata": {},
          "execution_count": 1268
        }
      ]
    },
    {
      "cell_type": "markdown",
      "source": [
        "# Избавимся от выбросов"
      ],
      "metadata": {
        "id": "YhizZT811Zu-"
      }
    },
    {
      "cell_type": "code",
      "source": [
        "data.corr()"
      ],
      "metadata": {
        "colab": {
          "base_uri": "https://localhost:8080/",
          "height": 419
        },
        "id": "Jcfx8eSSvZTx",
        "outputId": "acf0db29-3cb6-478d-ac50-8035209cbb2d"
      },
      "execution_count": 1269,
      "outputs": [
        {
          "output_type": "stream",
          "name": "stderr",
          "text": [
            "<ipython-input-1269-c44ded798807>:1: FutureWarning: The default value of numeric_only in DataFrame.corr is deprecated. In a future version, it will default to False. Select only valid columns or specify the value of numeric_only to silence this warning.\n",
            "  data.corr()\n"
          ]
        },
        {
          "output_type": "execute_result",
          "data": {
            "text/plain": [
              "                       Amount     Price     Floor  Bathroom   Balcony  \\\n",
              "Amount               1.000000  0.921863  0.126973  0.329351  0.122355   \n",
              "Price                0.921863  1.000000  0.038079  0.081162  0.038710   \n",
              "Floor                0.126973  0.038079  1.000000  0.212212  0.160327   \n",
              "Bathroom             0.329351  0.081162  0.212212  1.000000  0.268766   \n",
              "Balcony              0.122355  0.038710  0.160327  0.268766  1.000000   \n",
              "Super Area           0.089207  0.016107  0.052322  0.191024  0.060420   \n",
              "square               0.182615  0.037308  0.076263  0.381389  0.132284   \n",
              "count_room           0.179106  0.047113  0.094232  0.483481  0.207457   \n",
              "max_floor            0.136293  0.035558  0.761449  0.167963  0.127445   \n",
              "count_parking_place -0.030283 -0.013192 -0.005896 -0.075113 -0.007489   \n",
              "\n",
              "                     Super Area    square  count_room  max_floor  \\\n",
              "Amount                 0.089207  0.182615    0.179106   0.136293   \n",
              "Price                  0.016107  0.037308    0.047113   0.035558   \n",
              "Floor                  0.052322  0.076263    0.094232   0.761449   \n",
              "Bathroom               0.191024  0.381389    0.483481   0.167963   \n",
              "Balcony                0.060420  0.132284    0.207457   0.127445   \n",
              "Super Area             1.000000  0.166230    0.111107   0.055791   \n",
              "square                 0.166230  1.000000    0.225482   0.081299   \n",
              "count_room             0.111107  0.225482    1.000000   0.035061   \n",
              "max_floor              0.055791  0.081299    0.035061   1.000000   \n",
              "count_parking_place   -0.012932 -0.031223   -0.068244  -0.031098   \n",
              "\n",
              "                     count_parking_place  \n",
              "Amount                         -0.030283  \n",
              "Price                          -0.013192  \n",
              "Floor                          -0.005896  \n",
              "Bathroom                       -0.075113  \n",
              "Balcony                        -0.007489  \n",
              "Super Area                     -0.012932  \n",
              "square                         -0.031223  \n",
              "count_room                     -0.068244  \n",
              "max_floor                      -0.031098  \n",
              "count_parking_place             1.000000  "
            ],
            "text/html": [
              "\n",
              "  <div id=\"df-de309f8c-6cd5-40cb-92bc-96baf67171f4\" class=\"colab-df-container\">\n",
              "    <div>\n",
              "<style scoped>\n",
              "    .dataframe tbody tr th:only-of-type {\n",
              "        vertical-align: middle;\n",
              "    }\n",
              "\n",
              "    .dataframe tbody tr th {\n",
              "        vertical-align: top;\n",
              "    }\n",
              "\n",
              "    .dataframe thead th {\n",
              "        text-align: right;\n",
              "    }\n",
              "</style>\n",
              "<table border=\"1\" class=\"dataframe\">\n",
              "  <thead>\n",
              "    <tr style=\"text-align: right;\">\n",
              "      <th></th>\n",
              "      <th>Amount</th>\n",
              "      <th>Price</th>\n",
              "      <th>Floor</th>\n",
              "      <th>Bathroom</th>\n",
              "      <th>Balcony</th>\n",
              "      <th>Super Area</th>\n",
              "      <th>square</th>\n",
              "      <th>count_room</th>\n",
              "      <th>max_floor</th>\n",
              "      <th>count_parking_place</th>\n",
              "    </tr>\n",
              "  </thead>\n",
              "  <tbody>\n",
              "    <tr>\n",
              "      <th>Amount</th>\n",
              "      <td>1.000000</td>\n",
              "      <td>0.921863</td>\n",
              "      <td>0.126973</td>\n",
              "      <td>0.329351</td>\n",
              "      <td>0.122355</td>\n",
              "      <td>0.089207</td>\n",
              "      <td>0.182615</td>\n",
              "      <td>0.179106</td>\n",
              "      <td>0.136293</td>\n",
              "      <td>-0.030283</td>\n",
              "    </tr>\n",
              "    <tr>\n",
              "      <th>Price</th>\n",
              "      <td>0.921863</td>\n",
              "      <td>1.000000</td>\n",
              "      <td>0.038079</td>\n",
              "      <td>0.081162</td>\n",
              "      <td>0.038710</td>\n",
              "      <td>0.016107</td>\n",
              "      <td>0.037308</td>\n",
              "      <td>0.047113</td>\n",
              "      <td>0.035558</td>\n",
              "      <td>-0.013192</td>\n",
              "    </tr>\n",
              "    <tr>\n",
              "      <th>Floor</th>\n",
              "      <td>0.126973</td>\n",
              "      <td>0.038079</td>\n",
              "      <td>1.000000</td>\n",
              "      <td>0.212212</td>\n",
              "      <td>0.160327</td>\n",
              "      <td>0.052322</td>\n",
              "      <td>0.076263</td>\n",
              "      <td>0.094232</td>\n",
              "      <td>0.761449</td>\n",
              "      <td>-0.005896</td>\n",
              "    </tr>\n",
              "    <tr>\n",
              "      <th>Bathroom</th>\n",
              "      <td>0.329351</td>\n",
              "      <td>0.081162</td>\n",
              "      <td>0.212212</td>\n",
              "      <td>1.000000</td>\n",
              "      <td>0.268766</td>\n",
              "      <td>0.191024</td>\n",
              "      <td>0.381389</td>\n",
              "      <td>0.483481</td>\n",
              "      <td>0.167963</td>\n",
              "      <td>-0.075113</td>\n",
              "    </tr>\n",
              "    <tr>\n",
              "      <th>Balcony</th>\n",
              "      <td>0.122355</td>\n",
              "      <td>0.038710</td>\n",
              "      <td>0.160327</td>\n",
              "      <td>0.268766</td>\n",
              "      <td>1.000000</td>\n",
              "      <td>0.060420</td>\n",
              "      <td>0.132284</td>\n",
              "      <td>0.207457</td>\n",
              "      <td>0.127445</td>\n",
              "      <td>-0.007489</td>\n",
              "    </tr>\n",
              "    <tr>\n",
              "      <th>Super Area</th>\n",
              "      <td>0.089207</td>\n",
              "      <td>0.016107</td>\n",
              "      <td>0.052322</td>\n",
              "      <td>0.191024</td>\n",
              "      <td>0.060420</td>\n",
              "      <td>1.000000</td>\n",
              "      <td>0.166230</td>\n",
              "      <td>0.111107</td>\n",
              "      <td>0.055791</td>\n",
              "      <td>-0.012932</td>\n",
              "    </tr>\n",
              "    <tr>\n",
              "      <th>square</th>\n",
              "      <td>0.182615</td>\n",
              "      <td>0.037308</td>\n",
              "      <td>0.076263</td>\n",
              "      <td>0.381389</td>\n",
              "      <td>0.132284</td>\n",
              "      <td>0.166230</td>\n",
              "      <td>1.000000</td>\n",
              "      <td>0.225482</td>\n",
              "      <td>0.081299</td>\n",
              "      <td>-0.031223</td>\n",
              "    </tr>\n",
              "    <tr>\n",
              "      <th>count_room</th>\n",
              "      <td>0.179106</td>\n",
              "      <td>0.047113</td>\n",
              "      <td>0.094232</td>\n",
              "      <td>0.483481</td>\n",
              "      <td>0.207457</td>\n",
              "      <td>0.111107</td>\n",
              "      <td>0.225482</td>\n",
              "      <td>1.000000</td>\n",
              "      <td>0.035061</td>\n",
              "      <td>-0.068244</td>\n",
              "    </tr>\n",
              "    <tr>\n",
              "      <th>max_floor</th>\n",
              "      <td>0.136293</td>\n",
              "      <td>0.035558</td>\n",
              "      <td>0.761449</td>\n",
              "      <td>0.167963</td>\n",
              "      <td>0.127445</td>\n",
              "      <td>0.055791</td>\n",
              "      <td>0.081299</td>\n",
              "      <td>0.035061</td>\n",
              "      <td>1.000000</td>\n",
              "      <td>-0.031098</td>\n",
              "    </tr>\n",
              "    <tr>\n",
              "      <th>count_parking_place</th>\n",
              "      <td>-0.030283</td>\n",
              "      <td>-0.013192</td>\n",
              "      <td>-0.005896</td>\n",
              "      <td>-0.075113</td>\n",
              "      <td>-0.007489</td>\n",
              "      <td>-0.012932</td>\n",
              "      <td>-0.031223</td>\n",
              "      <td>-0.068244</td>\n",
              "      <td>-0.031098</td>\n",
              "      <td>1.000000</td>\n",
              "    </tr>\n",
              "  </tbody>\n",
              "</table>\n",
              "</div>\n",
              "    <div class=\"colab-df-buttons\">\n",
              "\n",
              "  <div class=\"colab-df-container\">\n",
              "    <button class=\"colab-df-convert\" onclick=\"convertToInteractive('df-de309f8c-6cd5-40cb-92bc-96baf67171f4')\"\n",
              "            title=\"Convert this dataframe to an interactive table.\"\n",
              "            style=\"display:none;\">\n",
              "\n",
              "  <svg xmlns=\"http://www.w3.org/2000/svg\" height=\"24px\" viewBox=\"0 -960 960 960\">\n",
              "    <path d=\"M120-120v-720h720v720H120Zm60-500h600v-160H180v160Zm220 220h160v-160H400v160Zm0 220h160v-160H400v160ZM180-400h160v-160H180v160Zm440 0h160v-160H620v160ZM180-180h160v-160H180v160Zm440 0h160v-160H620v160Z\"/>\n",
              "  </svg>\n",
              "    </button>\n",
              "\n",
              "  <style>\n",
              "    .colab-df-container {\n",
              "      display:flex;\n",
              "      gap: 12px;\n",
              "    }\n",
              "\n",
              "    .colab-df-convert {\n",
              "      background-color: #E8F0FE;\n",
              "      border: none;\n",
              "      border-radius: 50%;\n",
              "      cursor: pointer;\n",
              "      display: none;\n",
              "      fill: #1967D2;\n",
              "      height: 32px;\n",
              "      padding: 0 0 0 0;\n",
              "      width: 32px;\n",
              "    }\n",
              "\n",
              "    .colab-df-convert:hover {\n",
              "      background-color: #E2EBFA;\n",
              "      box-shadow: 0px 1px 2px rgba(60, 64, 67, 0.3), 0px 1px 3px 1px rgba(60, 64, 67, 0.15);\n",
              "      fill: #174EA6;\n",
              "    }\n",
              "\n",
              "    .colab-df-buttons div {\n",
              "      margin-bottom: 4px;\n",
              "    }\n",
              "\n",
              "    [theme=dark] .colab-df-convert {\n",
              "      background-color: #3B4455;\n",
              "      fill: #D2E3FC;\n",
              "    }\n",
              "\n",
              "    [theme=dark] .colab-df-convert:hover {\n",
              "      background-color: #434B5C;\n",
              "      box-shadow: 0px 1px 3px 1px rgba(0, 0, 0, 0.15);\n",
              "      filter: drop-shadow(0px 1px 2px rgba(0, 0, 0, 0.3));\n",
              "      fill: #FFFFFF;\n",
              "    }\n",
              "  </style>\n",
              "\n",
              "    <script>\n",
              "      const buttonEl =\n",
              "        document.querySelector('#df-de309f8c-6cd5-40cb-92bc-96baf67171f4 button.colab-df-convert');\n",
              "      buttonEl.style.display =\n",
              "        google.colab.kernel.accessAllowed ? 'block' : 'none';\n",
              "\n",
              "      async function convertToInteractive(key) {\n",
              "        const element = document.querySelector('#df-de309f8c-6cd5-40cb-92bc-96baf67171f4');\n",
              "        const dataTable =\n",
              "          await google.colab.kernel.invokeFunction('convertToInteractive',\n",
              "                                                    [key], {});\n",
              "        if (!dataTable) return;\n",
              "\n",
              "        const docLinkHtml = 'Like what you see? Visit the ' +\n",
              "          '<a target=\"_blank\" href=https://colab.research.google.com/notebooks/data_table.ipynb>data table notebook</a>'\n",
              "          + ' to learn more about interactive tables.';\n",
              "        element.innerHTML = '';\n",
              "        dataTable['output_type'] = 'display_data';\n",
              "        await google.colab.output.renderOutput(dataTable, element);\n",
              "        const docLink = document.createElement('div');\n",
              "        docLink.innerHTML = docLinkHtml;\n",
              "        element.appendChild(docLink);\n",
              "      }\n",
              "    </script>\n",
              "  </div>\n",
              "\n",
              "\n",
              "<div id=\"df-1f0ccc87-9c7e-4196-99c2-5fd277c5a2ed\">\n",
              "  <button class=\"colab-df-quickchart\" onclick=\"quickchart('df-1f0ccc87-9c7e-4196-99c2-5fd277c5a2ed')\"\n",
              "            title=\"Suggest charts\"\n",
              "            style=\"display:none;\">\n",
              "\n",
              "<svg xmlns=\"http://www.w3.org/2000/svg\" height=\"24px\"viewBox=\"0 0 24 24\"\n",
              "     width=\"24px\">\n",
              "    <g>\n",
              "        <path d=\"M19 3H5c-1.1 0-2 .9-2 2v14c0 1.1.9 2 2 2h14c1.1 0 2-.9 2-2V5c0-1.1-.9-2-2-2zM9 17H7v-7h2v7zm4 0h-2V7h2v10zm4 0h-2v-4h2v4z\"/>\n",
              "    </g>\n",
              "</svg>\n",
              "  </button>\n",
              "\n",
              "<style>\n",
              "  .colab-df-quickchart {\n",
              "      --bg-color: #E8F0FE;\n",
              "      --fill-color: #1967D2;\n",
              "      --hover-bg-color: #E2EBFA;\n",
              "      --hover-fill-color: #174EA6;\n",
              "      --disabled-fill-color: #AAA;\n",
              "      --disabled-bg-color: #DDD;\n",
              "  }\n",
              "\n",
              "  [theme=dark] .colab-df-quickchart {\n",
              "      --bg-color: #3B4455;\n",
              "      --fill-color: #D2E3FC;\n",
              "      --hover-bg-color: #434B5C;\n",
              "      --hover-fill-color: #FFFFFF;\n",
              "      --disabled-bg-color: #3B4455;\n",
              "      --disabled-fill-color: #666;\n",
              "  }\n",
              "\n",
              "  .colab-df-quickchart {\n",
              "    background-color: var(--bg-color);\n",
              "    border: none;\n",
              "    border-radius: 50%;\n",
              "    cursor: pointer;\n",
              "    display: none;\n",
              "    fill: var(--fill-color);\n",
              "    height: 32px;\n",
              "    padding: 0;\n",
              "    width: 32px;\n",
              "  }\n",
              "\n",
              "  .colab-df-quickchart:hover {\n",
              "    background-color: var(--hover-bg-color);\n",
              "    box-shadow: 0 1px 2px rgba(60, 64, 67, 0.3), 0 1px 3px 1px rgba(60, 64, 67, 0.15);\n",
              "    fill: var(--button-hover-fill-color);\n",
              "  }\n",
              "\n",
              "  .colab-df-quickchart-complete:disabled,\n",
              "  .colab-df-quickchart-complete:disabled:hover {\n",
              "    background-color: var(--disabled-bg-color);\n",
              "    fill: var(--disabled-fill-color);\n",
              "    box-shadow: none;\n",
              "  }\n",
              "\n",
              "  .colab-df-spinner {\n",
              "    border: 2px solid var(--fill-color);\n",
              "    border-color: transparent;\n",
              "    border-bottom-color: var(--fill-color);\n",
              "    animation:\n",
              "      spin 1s steps(1) infinite;\n",
              "  }\n",
              "\n",
              "  @keyframes spin {\n",
              "    0% {\n",
              "      border-color: transparent;\n",
              "      border-bottom-color: var(--fill-color);\n",
              "      border-left-color: var(--fill-color);\n",
              "    }\n",
              "    20% {\n",
              "      border-color: transparent;\n",
              "      border-left-color: var(--fill-color);\n",
              "      border-top-color: var(--fill-color);\n",
              "    }\n",
              "    30% {\n",
              "      border-color: transparent;\n",
              "      border-left-color: var(--fill-color);\n",
              "      border-top-color: var(--fill-color);\n",
              "      border-right-color: var(--fill-color);\n",
              "    }\n",
              "    40% {\n",
              "      border-color: transparent;\n",
              "      border-right-color: var(--fill-color);\n",
              "      border-top-color: var(--fill-color);\n",
              "    }\n",
              "    60% {\n",
              "      border-color: transparent;\n",
              "      border-right-color: var(--fill-color);\n",
              "    }\n",
              "    80% {\n",
              "      border-color: transparent;\n",
              "      border-right-color: var(--fill-color);\n",
              "      border-bottom-color: var(--fill-color);\n",
              "    }\n",
              "    90% {\n",
              "      border-color: transparent;\n",
              "      border-bottom-color: var(--fill-color);\n",
              "    }\n",
              "  }\n",
              "</style>\n",
              "\n",
              "  <script>\n",
              "    async function quickchart(key) {\n",
              "      const quickchartButtonEl =\n",
              "        document.querySelector('#' + key + ' button');\n",
              "      quickchartButtonEl.disabled = true;  // To prevent multiple clicks.\n",
              "      quickchartButtonEl.classList.add('colab-df-spinner');\n",
              "      try {\n",
              "        const charts = await google.colab.kernel.invokeFunction(\n",
              "            'suggestCharts', [key], {});\n",
              "      } catch (error) {\n",
              "        console.error('Error during call to suggestCharts:', error);\n",
              "      }\n",
              "      quickchartButtonEl.classList.remove('colab-df-spinner');\n",
              "      quickchartButtonEl.classList.add('colab-df-quickchart-complete');\n",
              "    }\n",
              "    (() => {\n",
              "      let quickchartButtonEl =\n",
              "        document.querySelector('#df-1f0ccc87-9c7e-4196-99c2-5fd277c5a2ed button');\n",
              "      quickchartButtonEl.style.display =\n",
              "        google.colab.kernel.accessAllowed ? 'block' : 'none';\n",
              "    })();\n",
              "  </script>\n",
              "</div>\n",
              "    </div>\n",
              "  </div>\n"
            ]
          },
          "metadata": {},
          "execution_count": 1269
        }
      ]
    },
    {
      "cell_type": "markdown",
      "source": [
        "Можно заметить, что стоимость квартиры 'Amount' сильно коррелирует с ценой за квадратный фут и слабо коррелирует со всеми остальными значениями"
      ],
      "metadata": {
        "id": "Ou3PM2hXyUfa"
      }
    },
    {
      "cell_type": "code",
      "source": [
        "q = {'':''}\n",
        "column_names = {'Amount', 'Price', 'Floor', 'Bathroom', 'Balcony', 'Super Area', 'square', 'count_room', 'max_floor', 'count_parking_place'}\n",
        "for st1 in column_names:\n",
        "  q[st1] = [data[st1].quantile(0.05), data[st1].quantile(0.995)]\n",
        "for st1 in column_names:\n",
        "  rows_to_drop = data[(data[st1] < q[st1][0]) | (data[st1] > q[st1][1])].index\n",
        "  data = data.drop(rows_to_drop)\n",
        "data.shape"
      ],
      "metadata": {
        "colab": {
          "base_uri": "https://localhost:8080/"
        },
        "id": "hmKGAiXY1thQ",
        "outputId": "755b5074-9b4a-4c61-a68e-1fbf058b7d58"
      },
      "execution_count": 1270,
      "outputs": [
        {
          "output_type": "execute_result",
          "data": {
            "text/plain": [
              "(44139, 16)"
            ]
          },
          "metadata": {},
          "execution_count": 1270
        }
      ]
    },
    {
      "cell_type": "code",
      "source": [
        "corr_mat = data.corr()\n",
        "corr_mat"
      ],
      "metadata": {
        "colab": {
          "base_uri": "https://localhost:8080/",
          "height": 419
        },
        "id": "PU9_9rAm4a33",
        "outputId": "1007a8b2-15ea-4497-e4a3-8ac1c72a00c6"
      },
      "execution_count": 1271,
      "outputs": [
        {
          "output_type": "stream",
          "name": "stderr",
          "text": [
            "<ipython-input-1271-79907eedfcac>:1: FutureWarning: The default value of numeric_only in DataFrame.corr is deprecated. In a future version, it will default to False. Select only valid columns or specify the value of numeric_only to silence this warning.\n",
            "  corr_mat = data.corr()\n"
          ]
        },
        {
          "output_type": "execute_result",
          "data": {
            "text/plain": [
              "                       Amount     Price     Floor  Bathroom   Balcony  \\\n",
              "Amount               1.000000  0.826718  0.227579  0.725791  0.220802   \n",
              "Price                0.826718  1.000000  0.178895  0.485991  0.229972   \n",
              "Floor                0.227579  0.178895  1.000000  0.180085  0.140133   \n",
              "Bathroom             0.725791  0.485991  0.180085  1.000000  0.150652   \n",
              "Balcony              0.220802  0.229972  0.140133  0.150652  1.000000   \n",
              "Super Area           0.820369  0.445289  0.185210  0.811124  0.176699   \n",
              "square               0.827059  0.490984  0.097066  0.771305  0.185124   \n",
              "count_room           0.628642  0.434269  0.099836  0.783883  0.260308   \n",
              "max_floor            0.246726  0.137549  0.736714  0.129102  0.108017   \n",
              "count_parking_place -0.080779 -0.087791 -0.014094 -0.098886 -0.010096   \n",
              "\n",
              "                     Super Area    square  count_room  max_floor  \\\n",
              "Amount                 0.820369  0.827059    0.628642   0.246726   \n",
              "Price                  0.445289  0.490984    0.434269   0.137549   \n",
              "Floor                  0.185210  0.097066    0.099836   0.736714   \n",
              "Bathroom               0.811124  0.771305    0.783883   0.129102   \n",
              "Balcony                0.176699  0.185124    0.260308   0.108017   \n",
              "Super Area             1.000000  0.946253    0.769573   0.221023   \n",
              "square                 0.946253  1.000000    0.737697   0.126757   \n",
              "count_room             0.769573  0.737697    1.000000  -0.024301   \n",
              "max_floor              0.221023  0.126757   -0.024301   1.000000   \n",
              "count_parking_place   -0.109903 -0.101104   -0.142445  -0.046638   \n",
              "\n",
              "                     count_parking_place  \n",
              "Amount                         -0.080779  \n",
              "Price                          -0.087791  \n",
              "Floor                          -0.014094  \n",
              "Bathroom                       -0.098886  \n",
              "Balcony                        -0.010096  \n",
              "Super Area                     -0.109903  \n",
              "square                         -0.101104  \n",
              "count_room                     -0.142445  \n",
              "max_floor                      -0.046638  \n",
              "count_parking_place             1.000000  "
            ],
            "text/html": [
              "\n",
              "  <div id=\"df-05bff42b-e962-43a3-b2a3-2a994493c005\" class=\"colab-df-container\">\n",
              "    <div>\n",
              "<style scoped>\n",
              "    .dataframe tbody tr th:only-of-type {\n",
              "        vertical-align: middle;\n",
              "    }\n",
              "\n",
              "    .dataframe tbody tr th {\n",
              "        vertical-align: top;\n",
              "    }\n",
              "\n",
              "    .dataframe thead th {\n",
              "        text-align: right;\n",
              "    }\n",
              "</style>\n",
              "<table border=\"1\" class=\"dataframe\">\n",
              "  <thead>\n",
              "    <tr style=\"text-align: right;\">\n",
              "      <th></th>\n",
              "      <th>Amount</th>\n",
              "      <th>Price</th>\n",
              "      <th>Floor</th>\n",
              "      <th>Bathroom</th>\n",
              "      <th>Balcony</th>\n",
              "      <th>Super Area</th>\n",
              "      <th>square</th>\n",
              "      <th>count_room</th>\n",
              "      <th>max_floor</th>\n",
              "      <th>count_parking_place</th>\n",
              "    </tr>\n",
              "  </thead>\n",
              "  <tbody>\n",
              "    <tr>\n",
              "      <th>Amount</th>\n",
              "      <td>1.000000</td>\n",
              "      <td>0.826718</td>\n",
              "      <td>0.227579</td>\n",
              "      <td>0.725791</td>\n",
              "      <td>0.220802</td>\n",
              "      <td>0.820369</td>\n",
              "      <td>0.827059</td>\n",
              "      <td>0.628642</td>\n",
              "      <td>0.246726</td>\n",
              "      <td>-0.080779</td>\n",
              "    </tr>\n",
              "    <tr>\n",
              "      <th>Price</th>\n",
              "      <td>0.826718</td>\n",
              "      <td>1.000000</td>\n",
              "      <td>0.178895</td>\n",
              "      <td>0.485991</td>\n",
              "      <td>0.229972</td>\n",
              "      <td>0.445289</td>\n",
              "      <td>0.490984</td>\n",
              "      <td>0.434269</td>\n",
              "      <td>0.137549</td>\n",
              "      <td>-0.087791</td>\n",
              "    </tr>\n",
              "    <tr>\n",
              "      <th>Floor</th>\n",
              "      <td>0.227579</td>\n",
              "      <td>0.178895</td>\n",
              "      <td>1.000000</td>\n",
              "      <td>0.180085</td>\n",
              "      <td>0.140133</td>\n",
              "      <td>0.185210</td>\n",
              "      <td>0.097066</td>\n",
              "      <td>0.099836</td>\n",
              "      <td>0.736714</td>\n",
              "      <td>-0.014094</td>\n",
              "    </tr>\n",
              "    <tr>\n",
              "      <th>Bathroom</th>\n",
              "      <td>0.725791</td>\n",
              "      <td>0.485991</td>\n",
              "      <td>0.180085</td>\n",
              "      <td>1.000000</td>\n",
              "      <td>0.150652</td>\n",
              "      <td>0.811124</td>\n",
              "      <td>0.771305</td>\n",
              "      <td>0.783883</td>\n",
              "      <td>0.129102</td>\n",
              "      <td>-0.098886</td>\n",
              "    </tr>\n",
              "    <tr>\n",
              "      <th>Balcony</th>\n",
              "      <td>0.220802</td>\n",
              "      <td>0.229972</td>\n",
              "      <td>0.140133</td>\n",
              "      <td>0.150652</td>\n",
              "      <td>1.000000</td>\n",
              "      <td>0.176699</td>\n",
              "      <td>0.185124</td>\n",
              "      <td>0.260308</td>\n",
              "      <td>0.108017</td>\n",
              "      <td>-0.010096</td>\n",
              "    </tr>\n",
              "    <tr>\n",
              "      <th>Super Area</th>\n",
              "      <td>0.820369</td>\n",
              "      <td>0.445289</td>\n",
              "      <td>0.185210</td>\n",
              "      <td>0.811124</td>\n",
              "      <td>0.176699</td>\n",
              "      <td>1.000000</td>\n",
              "      <td>0.946253</td>\n",
              "      <td>0.769573</td>\n",
              "      <td>0.221023</td>\n",
              "      <td>-0.109903</td>\n",
              "    </tr>\n",
              "    <tr>\n",
              "      <th>square</th>\n",
              "      <td>0.827059</td>\n",
              "      <td>0.490984</td>\n",
              "      <td>0.097066</td>\n",
              "      <td>0.771305</td>\n",
              "      <td>0.185124</td>\n",
              "      <td>0.946253</td>\n",
              "      <td>1.000000</td>\n",
              "      <td>0.737697</td>\n",
              "      <td>0.126757</td>\n",
              "      <td>-0.101104</td>\n",
              "    </tr>\n",
              "    <tr>\n",
              "      <th>count_room</th>\n",
              "      <td>0.628642</td>\n",
              "      <td>0.434269</td>\n",
              "      <td>0.099836</td>\n",
              "      <td>0.783883</td>\n",
              "      <td>0.260308</td>\n",
              "      <td>0.769573</td>\n",
              "      <td>0.737697</td>\n",
              "      <td>1.000000</td>\n",
              "      <td>-0.024301</td>\n",
              "      <td>-0.142445</td>\n",
              "    </tr>\n",
              "    <tr>\n",
              "      <th>max_floor</th>\n",
              "      <td>0.246726</td>\n",
              "      <td>0.137549</td>\n",
              "      <td>0.736714</td>\n",
              "      <td>0.129102</td>\n",
              "      <td>0.108017</td>\n",
              "      <td>0.221023</td>\n",
              "      <td>0.126757</td>\n",
              "      <td>-0.024301</td>\n",
              "      <td>1.000000</td>\n",
              "      <td>-0.046638</td>\n",
              "    </tr>\n",
              "    <tr>\n",
              "      <th>count_parking_place</th>\n",
              "      <td>-0.080779</td>\n",
              "      <td>-0.087791</td>\n",
              "      <td>-0.014094</td>\n",
              "      <td>-0.098886</td>\n",
              "      <td>-0.010096</td>\n",
              "      <td>-0.109903</td>\n",
              "      <td>-0.101104</td>\n",
              "      <td>-0.142445</td>\n",
              "      <td>-0.046638</td>\n",
              "      <td>1.000000</td>\n",
              "    </tr>\n",
              "  </tbody>\n",
              "</table>\n",
              "</div>\n",
              "    <div class=\"colab-df-buttons\">\n",
              "\n",
              "  <div class=\"colab-df-container\">\n",
              "    <button class=\"colab-df-convert\" onclick=\"convertToInteractive('df-05bff42b-e962-43a3-b2a3-2a994493c005')\"\n",
              "            title=\"Convert this dataframe to an interactive table.\"\n",
              "            style=\"display:none;\">\n",
              "\n",
              "  <svg xmlns=\"http://www.w3.org/2000/svg\" height=\"24px\" viewBox=\"0 -960 960 960\">\n",
              "    <path d=\"M120-120v-720h720v720H120Zm60-500h600v-160H180v160Zm220 220h160v-160H400v160Zm0 220h160v-160H400v160ZM180-400h160v-160H180v160Zm440 0h160v-160H620v160ZM180-180h160v-160H180v160Zm440 0h160v-160H620v160Z\"/>\n",
              "  </svg>\n",
              "    </button>\n",
              "\n",
              "  <style>\n",
              "    .colab-df-container {\n",
              "      display:flex;\n",
              "      gap: 12px;\n",
              "    }\n",
              "\n",
              "    .colab-df-convert {\n",
              "      background-color: #E8F0FE;\n",
              "      border: none;\n",
              "      border-radius: 50%;\n",
              "      cursor: pointer;\n",
              "      display: none;\n",
              "      fill: #1967D2;\n",
              "      height: 32px;\n",
              "      padding: 0 0 0 0;\n",
              "      width: 32px;\n",
              "    }\n",
              "\n",
              "    .colab-df-convert:hover {\n",
              "      background-color: #E2EBFA;\n",
              "      box-shadow: 0px 1px 2px rgba(60, 64, 67, 0.3), 0px 1px 3px 1px rgba(60, 64, 67, 0.15);\n",
              "      fill: #174EA6;\n",
              "    }\n",
              "\n",
              "    .colab-df-buttons div {\n",
              "      margin-bottom: 4px;\n",
              "    }\n",
              "\n",
              "    [theme=dark] .colab-df-convert {\n",
              "      background-color: #3B4455;\n",
              "      fill: #D2E3FC;\n",
              "    }\n",
              "\n",
              "    [theme=dark] .colab-df-convert:hover {\n",
              "      background-color: #434B5C;\n",
              "      box-shadow: 0px 1px 3px 1px rgba(0, 0, 0, 0.15);\n",
              "      filter: drop-shadow(0px 1px 2px rgba(0, 0, 0, 0.3));\n",
              "      fill: #FFFFFF;\n",
              "    }\n",
              "  </style>\n",
              "\n",
              "    <script>\n",
              "      const buttonEl =\n",
              "        document.querySelector('#df-05bff42b-e962-43a3-b2a3-2a994493c005 button.colab-df-convert');\n",
              "      buttonEl.style.display =\n",
              "        google.colab.kernel.accessAllowed ? 'block' : 'none';\n",
              "\n",
              "      async function convertToInteractive(key) {\n",
              "        const element = document.querySelector('#df-05bff42b-e962-43a3-b2a3-2a994493c005');\n",
              "        const dataTable =\n",
              "          await google.colab.kernel.invokeFunction('convertToInteractive',\n",
              "                                                    [key], {});\n",
              "        if (!dataTable) return;\n",
              "\n",
              "        const docLinkHtml = 'Like what you see? Visit the ' +\n",
              "          '<a target=\"_blank\" href=https://colab.research.google.com/notebooks/data_table.ipynb>data table notebook</a>'\n",
              "          + ' to learn more about interactive tables.';\n",
              "        element.innerHTML = '';\n",
              "        dataTable['output_type'] = 'display_data';\n",
              "        await google.colab.output.renderOutput(dataTable, element);\n",
              "        const docLink = document.createElement('div');\n",
              "        docLink.innerHTML = docLinkHtml;\n",
              "        element.appendChild(docLink);\n",
              "      }\n",
              "    </script>\n",
              "  </div>\n",
              "\n",
              "\n",
              "<div id=\"df-a3280ce1-c0f2-418a-902f-33a2ff48dacb\">\n",
              "  <button class=\"colab-df-quickchart\" onclick=\"quickchart('df-a3280ce1-c0f2-418a-902f-33a2ff48dacb')\"\n",
              "            title=\"Suggest charts\"\n",
              "            style=\"display:none;\">\n",
              "\n",
              "<svg xmlns=\"http://www.w3.org/2000/svg\" height=\"24px\"viewBox=\"0 0 24 24\"\n",
              "     width=\"24px\">\n",
              "    <g>\n",
              "        <path d=\"M19 3H5c-1.1 0-2 .9-2 2v14c0 1.1.9 2 2 2h14c1.1 0 2-.9 2-2V5c0-1.1-.9-2-2-2zM9 17H7v-7h2v7zm4 0h-2V7h2v10zm4 0h-2v-4h2v4z\"/>\n",
              "    </g>\n",
              "</svg>\n",
              "  </button>\n",
              "\n",
              "<style>\n",
              "  .colab-df-quickchart {\n",
              "      --bg-color: #E8F0FE;\n",
              "      --fill-color: #1967D2;\n",
              "      --hover-bg-color: #E2EBFA;\n",
              "      --hover-fill-color: #174EA6;\n",
              "      --disabled-fill-color: #AAA;\n",
              "      --disabled-bg-color: #DDD;\n",
              "  }\n",
              "\n",
              "  [theme=dark] .colab-df-quickchart {\n",
              "      --bg-color: #3B4455;\n",
              "      --fill-color: #D2E3FC;\n",
              "      --hover-bg-color: #434B5C;\n",
              "      --hover-fill-color: #FFFFFF;\n",
              "      --disabled-bg-color: #3B4455;\n",
              "      --disabled-fill-color: #666;\n",
              "  }\n",
              "\n",
              "  .colab-df-quickchart {\n",
              "    background-color: var(--bg-color);\n",
              "    border: none;\n",
              "    border-radius: 50%;\n",
              "    cursor: pointer;\n",
              "    display: none;\n",
              "    fill: var(--fill-color);\n",
              "    height: 32px;\n",
              "    padding: 0;\n",
              "    width: 32px;\n",
              "  }\n",
              "\n",
              "  .colab-df-quickchart:hover {\n",
              "    background-color: var(--hover-bg-color);\n",
              "    box-shadow: 0 1px 2px rgba(60, 64, 67, 0.3), 0 1px 3px 1px rgba(60, 64, 67, 0.15);\n",
              "    fill: var(--button-hover-fill-color);\n",
              "  }\n",
              "\n",
              "  .colab-df-quickchart-complete:disabled,\n",
              "  .colab-df-quickchart-complete:disabled:hover {\n",
              "    background-color: var(--disabled-bg-color);\n",
              "    fill: var(--disabled-fill-color);\n",
              "    box-shadow: none;\n",
              "  }\n",
              "\n",
              "  .colab-df-spinner {\n",
              "    border: 2px solid var(--fill-color);\n",
              "    border-color: transparent;\n",
              "    border-bottom-color: var(--fill-color);\n",
              "    animation:\n",
              "      spin 1s steps(1) infinite;\n",
              "  }\n",
              "\n",
              "  @keyframes spin {\n",
              "    0% {\n",
              "      border-color: transparent;\n",
              "      border-bottom-color: var(--fill-color);\n",
              "      border-left-color: var(--fill-color);\n",
              "    }\n",
              "    20% {\n",
              "      border-color: transparent;\n",
              "      border-left-color: var(--fill-color);\n",
              "      border-top-color: var(--fill-color);\n",
              "    }\n",
              "    30% {\n",
              "      border-color: transparent;\n",
              "      border-left-color: var(--fill-color);\n",
              "      border-top-color: var(--fill-color);\n",
              "      border-right-color: var(--fill-color);\n",
              "    }\n",
              "    40% {\n",
              "      border-color: transparent;\n",
              "      border-right-color: var(--fill-color);\n",
              "      border-top-color: var(--fill-color);\n",
              "    }\n",
              "    60% {\n",
              "      border-color: transparent;\n",
              "      border-right-color: var(--fill-color);\n",
              "    }\n",
              "    80% {\n",
              "      border-color: transparent;\n",
              "      border-right-color: var(--fill-color);\n",
              "      border-bottom-color: var(--fill-color);\n",
              "    }\n",
              "    90% {\n",
              "      border-color: transparent;\n",
              "      border-bottom-color: var(--fill-color);\n",
              "    }\n",
              "  }\n",
              "</style>\n",
              "\n",
              "  <script>\n",
              "    async function quickchart(key) {\n",
              "      const quickchartButtonEl =\n",
              "        document.querySelector('#' + key + ' button');\n",
              "      quickchartButtonEl.disabled = true;  // To prevent multiple clicks.\n",
              "      quickchartButtonEl.classList.add('colab-df-spinner');\n",
              "      try {\n",
              "        const charts = await google.colab.kernel.invokeFunction(\n",
              "            'suggestCharts', [key], {});\n",
              "      } catch (error) {\n",
              "        console.error('Error during call to suggestCharts:', error);\n",
              "      }\n",
              "      quickchartButtonEl.classList.remove('colab-df-spinner');\n",
              "      quickchartButtonEl.classList.add('colab-df-quickchart-complete');\n",
              "    }\n",
              "    (() => {\n",
              "      let quickchartButtonEl =\n",
              "        document.querySelector('#df-a3280ce1-c0f2-418a-902f-33a2ff48dacb button');\n",
              "      quickchartButtonEl.style.display =\n",
              "        google.colab.kernel.accessAllowed ? 'block' : 'none';\n",
              "    })();\n",
              "  </script>\n",
              "</div>\n",
              "    </div>\n",
              "  </div>\n"
            ]
          },
          "metadata": {},
          "execution_count": 1271
        }
      ]
    },
    {
      "cell_type": "markdown",
      "source": [
        "После того, как были убраны выбросы, стоимость квартиры стала сильно зависеть также от площади, кол-ва комнат, кол-ва ванных комнат."
      ],
      "metadata": {
        "id": "b6dSjIbZzgpq"
      }
    },
    {
      "cell_type": "markdown",
      "source": [
        "# Визуализируем данные"
      ],
      "metadata": {
        "id": "w7DSFsY1yMNr"
      }
    },
    {
      "cell_type": "code",
      "source": [
        "from pandas.plotting import scatter_matrix\n",
        "scatter_matrix(data, alpha = .01, figsize = (10, 10))\n",
        "pass"
      ],
      "metadata": {
        "colab": {
          "base_uri": "https://localhost:8080/",
          "height": 871
        },
        "id": "QxM1_mBmvCUi",
        "outputId": "f0dd565f-8f63-4afe-a8e5-8c273d2a420e"
      },
      "execution_count": 1272,
      "outputs": [
        {
          "output_type": "display_data",
          "data": {
            "text/plain": [
              "<Figure size 1000x1000 with 100 Axes>"
            ],
            "image/png": "[encoded data removed]"
          },
          "metadata": {}
        }
      ]
    },
    {
      "cell_type": "markdown",
      "source": [
        "Характеристики для категориальных признаков:"
      ],
      "metadata": {
        "id": "-7dyfWTqAM5h"
      }
    },
    {
      "cell_type": "code",
      "source": [
        "data.describe(include=object)"
      ],
      "metadata": {
        "colab": {
          "base_uri": "https://localhost:8080/",
          "height": 175
        },
        "id": "jKFg9O_AANXt",
        "outputId": "93f9a102-44a7-47f5-b0ac-5759f4c4d9e6"
      },
      "execution_count": 1273,
      "outputs": [
        {
          "output_type": "execute_result",
          "data": {
            "text/plain": [
              "         location Transaction      Furnishing  \\\n",
              "count       44139       44139           44139   \n",
              "unique         71           3               3   \n",
              "top     new-delhi      Resale  Semi-Furnished   \n",
              "freq        12304       29595           25782   \n",
              "\n",
              "                                  Society Ownership type_parking_place  \n",
              "count                               44139     44139              44139  \n",
              "unique                               5588         4                  2  \n",
              "top     Hamdam Apartment Dwarka Sector 18  Freehold            Covered  \n",
              "freq                                 1648     40468              40176  "
            ],
            "text/html": [
              "\n",
              "  <div id=\"df-fc045ebe-e883-4fc8-9bce-7e948b018510\" class=\"colab-df-container\">\n",
              "    <div>\n",
              "<style scoped>\n",
              "    .dataframe tbody tr th:only-of-type {\n",
              "        vertical-align: middle;\n",
              "    }\n",
              "\n",
              "    .dataframe tbody tr th {\n",
              "        vertical-align: top;\n",
              "    }\n",
              "\n",
              "    .dataframe thead th {\n",
              "        text-align: right;\n",
              "    }\n",
              "</style>\n",
              "<table border=\"1\" class=\"dataframe\">\n",
              "  <thead>\n",
              "    <tr style=\"text-align: right;\">\n",
              "      <th></th>\n",
              "      <th>location</th>\n",
              "      <th>Transaction</th>\n",
              "      <th>Furnishing</th>\n",
              "      <th>Society</th>\n",
              "      <th>Ownership</th>\n",
              "      <th>type_parking_place</th>\n",
              "    </tr>\n",
              "  </thead>\n",
              "  <tbody>\n",
              "    <tr>\n",
              "      <th>count</th>\n",
              "      <td>44139</td>\n",
              "      <td>44139</td>\n",
              "      <td>44139</td>\n",
              "      <td>44139</td>\n",
              "      <td>44139</td>\n",
              "      <td>44139</td>\n",
              "    </tr>\n",
              "    <tr>\n",
              "      <th>unique</th>\n",
              "      <td>71</td>\n",
              "      <td>3</td>\n",
              "      <td>3</td>\n",
              "      <td>5588</td>\n",
              "      <td>4</td>\n",
              "      <td>2</td>\n",
              "    </tr>\n",
              "    <tr>\n",
              "      <th>top</th>\n",
              "      <td>new-delhi</td>\n",
              "      <td>Resale</td>\n",
              "      <td>Semi-Furnished</td>\n",
              "      <td>Hamdam Apartment Dwarka Sector 18</td>\n",
              "      <td>Freehold</td>\n",
              "      <td>Covered</td>\n",
              "    </tr>\n",
              "    <tr>\n",
              "      <th>freq</th>\n",
              "      <td>12304</td>\n",
              "      <td>29595</td>\n",
              "      <td>25782</td>\n",
              "      <td>1648</td>\n",
              "      <td>40468</td>\n",
              "      <td>40176</td>\n",
              "    </tr>\n",
              "  </tbody>\n",
              "</table>\n",
              "</div>\n",
              "    <div class=\"colab-df-buttons\">\n",
              "\n",
              "  <div class=\"colab-df-container\">\n",
              "    <button class=\"colab-df-convert\" onclick=\"convertToInteractive('df-fc045ebe-e883-4fc8-9bce-7e948b018510')\"\n",
              "            title=\"Convert this dataframe to an interactive table.\"\n",
              "            style=\"display:none;\">\n",
              "\n",
              "  <svg xmlns=\"http://www.w3.org/2000/svg\" height=\"24px\" viewBox=\"0 -960 960 960\">\n",
              "    <path d=\"M120-120v-720h720v720H120Zm60-500h600v-160H180v160Zm220 220h160v-160H400v160Zm0 220h160v-160H400v160ZM180-400h160v-160H180v160Zm440 0h160v-160H620v160ZM180-180h160v-160H180v160Zm440 0h160v-160H620v160Z\"/>\n",
              "  </svg>\n",
              "    </button>\n",
              "\n",
              "  <style>\n",
              "    .colab-df-container {\n",
              "      display:flex;\n",
              "      gap: 12px;\n",
              "    }\n",
              "\n",
              "    .colab-df-convert {\n",
              "      background-color: #E8F0FE;\n",
              "      border: none;\n",
              "      border-radius: 50%;\n",
              "      cursor: pointer;\n",
              "      display: none;\n",
              "      fill: #1967D2;\n",
              "      height: 32px;\n",
              "      padding: 0 0 0 0;\n",
              "      width: 32px;\n",
              "    }\n",
              "\n",
              "    .colab-df-convert:hover {\n",
              "      background-color: #E2EBFA;\n",
              "      box-shadow: 0px 1px 2px rgba(60, 64, 67, 0.3), 0px 1px 3px 1px rgba(60, 64, 67, 0.15);\n",
              "      fill: #174EA6;\n",
              "    }\n",
              "\n",
              "    .colab-df-buttons div {\n",
              "      margin-bottom: 4px;\n",
              "    }\n",
              "\n",
              "    [theme=dark] .colab-df-convert {\n",
              "      background-color: #3B4455;\n",
              "      fill: #D2E3FC;\n",
              "    }\n",
              "\n",
              "    [theme=dark] .colab-df-convert:hover {\n",
              "      background-color: #434B5C;\n",
              "      box-shadow: 0px 1px 3px 1px rgba(0, 0, 0, 0.15);\n",
              "      filter: drop-shadow(0px 1px 2px rgba(0, 0, 0, 0.3));\n",
              "      fill: #FFFFFF;\n",
              "    }\n",
              "  </style>\n",
              "\n",
              "    <script>\n",
              "      const buttonEl =\n",
              "        document.querySelector('#df-fc045ebe-e883-4fc8-9bce-7e948b018510 button.colab-df-convert');\n",
              "      buttonEl.style.display =\n",
              "        google.colab.kernel.accessAllowed ? 'block' : 'none';\n",
              "\n",
              "      async function convertToInteractive(key) {\n",
              "        const element = document.querySelector('#df-fc045ebe-e883-4fc8-9bce-7e948b018510');\n",
              "        const dataTable =\n",
              "          await google.colab.kernel.invokeFunction('convertToInteractive',\n",
              "                                                    [key], {});\n",
              "        if (!dataTable) return;\n",
              "\n",
              "        const docLinkHtml = 'Like what you see? Visit the ' +\n",
              "          '<a target=\"_blank\" href=https://colab.research.google.com/notebooks/data_table.ipynb>data table notebook</a>'\n",
              "          + ' to learn more about interactive tables.';\n",
              "        element.innerHTML = '';\n",
              "        dataTable['output_type'] = 'display_data';\n",
              "        await google.colab.output.renderOutput(dataTable, element);\n",
              "        const docLink = document.createElement('div');\n",
              "        docLink.innerHTML = docLinkHtml;\n",
              "        element.appendChild(docLink);\n",
              "      }\n",
              "    </script>\n",
              "  </div>\n",
              "\n",
              "\n",
              "<div id=\"df-8bca50fd-ab87-4556-9971-1998630b2fc1\">\n",
              "  <button class=\"colab-df-quickchart\" onclick=\"quickchart('df-8bca50fd-ab87-4556-9971-1998630b2fc1')\"\n",
              "            title=\"Suggest charts\"\n",
              "            style=\"display:none;\">\n",
              "\n",
              "<svg xmlns=\"http://www.w3.org/2000/svg\" height=\"24px\"viewBox=\"0 0 24 24\"\n",
              "     width=\"24px\">\n",
              "    <g>\n",
              "        <path d=\"M19 3H5c-1.1 0-2 .9-2 2v14c0 1.1.9 2 2 2h14c1.1 0 2-.9 2-2V5c0-1.1-.9-2-2-2zM9 17H7v-7h2v7zm4 0h-2V7h2v10zm4 0h-2v-4h2v4z\"/>\n",
              "    </g>\n",
              "</svg>\n",
              "  </button>\n",
              "\n",
              "<style>\n",
              "  .colab-df-quickchart {\n",
              "      --bg-color: #E8F0FE;\n",
              "      --fill-color: #1967D2;\n",
              "      --hover-bg-color: #E2EBFA;\n",
              "      --hover-fill-color: #174EA6;\n",
              "      --disabled-fill-color: #AAA;\n",
              "      --disabled-bg-color: #DDD;\n",
              "  }\n",
              "\n",
              "  [theme=dark] .colab-df-quickchart {\n",
              "      --bg-color: #3B4455;\n",
              "      --fill-color: #D2E3FC;\n",
              "      --hover-bg-color: #434B5C;\n",
              "      --hover-fill-color: #FFFFFF;\n",
              "      --disabled-bg-color: #3B4455;\n",
              "      --disabled-fill-color: #666;\n",
              "  }\n",
              "\n",
              "  .colab-df-quickchart {\n",
              "    background-color: var(--bg-color);\n",
              "    border: none;\n",
              "    border-radius: 50%;\n",
              "    cursor: pointer;\n",
              "    display: none;\n",
              "    fill: var(--fill-color);\n",
              "    height: 32px;\n",
              "    padding: 0;\n",
              "    width: 32px;\n",
              "  }\n",
              "\n",
              "  .colab-df-quickchart:hover {\n",
              "    background-color: var(--hover-bg-color);\n",
              "    box-shadow: 0 1px 2px rgba(60, 64, 67, 0.3), 0 1px 3px 1px rgba(60, 64, 67, 0.15);\n",
              "    fill: var(--button-hover-fill-color);\n",
              "  }\n",
              "\n",
              "  .colab-df-quickchart-complete:disabled,\n",
              "  .colab-df-quickchart-complete:disabled:hover {\n",
              "    background-color: var(--disabled-bg-color);\n",
              "    fill: var(--disabled-fill-color);\n",
              "    box-shadow: none;\n",
              "  }\n",
              "\n",
              "  .colab-df-spinner {\n",
              "    border: 2px solid var(--fill-color);\n",
              "    border-color: transparent;\n",
              "    border-bottom-color: var(--fill-color);\n",
              "    animation:\n",
              "      spin 1s steps(1) infinite;\n",
              "  }\n",
              "\n",
              "  @keyframes spin {\n",
              "    0% {\n",
              "      border-color: transparent;\n",
              "      border-bottom-color: var(--fill-color);\n",
              "      border-left-color: var(--fill-color);\n",
              "    }\n",
              "    20% {\n",
              "      border-color: transparent;\n",
              "      border-left-color: var(--fill-color);\n",
              "      border-top-color: var(--fill-color);\n",
              "    }\n",
              "    30% {\n",
              "      border-color: transparent;\n",
              "      border-left-color: var(--fill-color);\n",
              "      border-top-color: var(--fill-color);\n",
              "      border-right-color: var(--fill-color);\n",
              "    }\n",
              "    40% {\n",
              "      border-color: transparent;\n",
              "      border-right-color: var(--fill-color);\n",
              "      border-top-color: var(--fill-color);\n",
              "    }\n",
              "    60% {\n",
              "      border-color: transparent;\n",
              "      border-right-color: var(--fill-color);\n",
              "    }\n",
              "    80% {\n",
              "      border-color: transparent;\n",
              "      border-right-color: var(--fill-color);\n",
              "      border-bottom-color: var(--fill-color);\n",
              "    }\n",
              "    90% {\n",
              "      border-color: transparent;\n",
              "      border-bottom-color: var(--fill-color);\n",
              "    }\n",
              "  }\n",
              "</style>\n",
              "\n",
              "  <script>\n",
              "    async function quickchart(key) {\n",
              "      const quickchartButtonEl =\n",
              "        document.querySelector('#' + key + ' button');\n",
              "      quickchartButtonEl.disabled = true;  // To prevent multiple clicks.\n",
              "      quickchartButtonEl.classList.add('colab-df-spinner');\n",
              "      try {\n",
              "        const charts = await google.colab.kernel.invokeFunction(\n",
              "            'suggestCharts', [key], {});\n",
              "      } catch (error) {\n",
              "        console.error('Error during call to suggestCharts:', error);\n",
              "      }\n",
              "      quickchartButtonEl.classList.remove('colab-df-spinner');\n",
              "      quickchartButtonEl.classList.add('colab-df-quickchart-complete');\n",
              "    }\n",
              "    (() => {\n",
              "      let quickchartButtonEl =\n",
              "        document.querySelector('#df-8bca50fd-ab87-4556-9971-1998630b2fc1 button');\n",
              "      quickchartButtonEl.style.display =\n",
              "        google.colab.kernel.accessAllowed ? 'block' : 'none';\n",
              "    })();\n",
              "  </script>\n",
              "</div>\n",
              "    </div>\n",
              "  </div>\n"
            ]
          },
          "metadata": {},
          "execution_count": 1273
        }
      ]
    },
    {
      "cell_type": "markdown",
      "source": [
        "Отобразим некоторые графики с участием стоимости:"
      ],
      "metadata": {
        "id": "avvqPJLAA-zG"
      }
    },
    {
      "cell_type": "code",
      "source": [
        "def show_graph(st1, st2):\n",
        "  plt.scatter(data[st1], data[st2], alpha=0.01)\n",
        "  plt.xlabel(st1)\n",
        "  plt.ylabel(st2)\n",
        "  plt.title(st1 + ' vs '+ st2)\n",
        "  plt.show()"
      ],
      "metadata": {
        "id": "Ql5GlEqyBLJG"
      },
      "execution_count": 1274,
      "outputs": []
    },
    {
      "cell_type": "code",
      "source": [
        "show_graph('count_room', 'Amount')\n",
        "pass"
      ],
      "metadata": {
        "colab": {
          "base_uri": "https://localhost:8080/",
          "height": 471
        },
        "id": "NCTTtPzpA97B",
        "outputId": "883a3f49-e156-48b9-c3a6-92bf7ba9149c"
      },
      "execution_count": 1275,
      "outputs": [
        {
          "output_type": "display_data",
          "data": {
            "text/plain": [
              "<Figure size 640x480 with 1 Axes>"
            ],
            "image/png": "[encoded data removed]"
          },
          "metadata": {}
        }
      ]
    },
    {
      "cell_type": "code",
      "source": [
        "show_graph('Super Area', 'Amount')\n",
        "pass"
      ],
      "metadata": {
        "colab": {
          "base_uri": "https://localhost:8080/",
          "height": 472
        },
        "id": "gn-b-ZDxB4lo",
        "outputId": "aa33bb22-b2db-49f5-e924-7298803f7aef"
      },
      "execution_count": 1276,
      "outputs": [
        {
          "output_type": "display_data",
          "data": {
            "text/plain": [
              "<Figure size 640x480 with 1 Axes>"
            ],
            "image/png": "[encoded data removed]"
          },
          "metadata": {}
        }
      ]
    },
    {
      "cell_type": "code",
      "source": [
        "show_graph('Bathroom', 'Amount')\n",
        "pass"
      ],
      "metadata": {
        "colab": {
          "base_uri": "https://localhost:8080/",
          "height": 472
        },
        "id": "Eu3RJwDuCQH3",
        "outputId": "aa1008e0-464f-46fe-fd30-8e49b18ac7c5"
      },
      "execution_count": 1277,
      "outputs": [
        {
          "output_type": "display_data",
          "data": {
            "text/plain": [
              "<Figure size 640x480 with 1 Axes>"
            ],
            "image/png": "[encoded data removed]"
          },
          "metadata": {}
        }
      ]
    },
    {
      "cell_type": "markdown",
      "source": [
        "Отобразим матрицу корреляции в виде тепловой карты:"
      ],
      "metadata": {
        "id": "paUfcs8P384R"
      }
    },
    {
      "cell_type": "code",
      "source": [
        "sns.heatmap(corr_mat, square=True, cmap='coolwarm')\n",
        "pass"
      ],
      "metadata": {
        "colab": {
          "base_uri": "https://localhost:8080/",
          "height": 565
        },
        "id": "N28slgAdDACy",
        "outputId": "9faab3f1-d55e-4e01-f761-ac36ade1eb04"
      },
      "execution_count": 1278,
      "outputs": [
        {
          "output_type": "display_data",
          "data": {
            "text/plain": [
              "<Figure size 640x480 with 2 Axes>"
            ],
            "image/png": "[encoded data removed]"
          },
          "metadata": {}
        }
      ]
    },
    {
      "cell_type": "markdown",
      "source": [
        "# Обработаем категориальные признаки"
      ],
      "metadata": {
        "id": "xX7RoncrSjQk"
      }
    },
    {
      "cell_type": "markdown",
      "source": [
        "Сделаем замену на числа. До применения:"
      ],
      "metadata": {
        "id": "-6rqdJ6-fCsf"
      }
    },
    {
      "cell_type": "code",
      "source": [
        "data['type_parking_place'].unique()"
      ],
      "metadata": {
        "colab": {
          "base_uri": "https://localhost:8080/"
        },
        "id": "Q8wv_T03fNYd",
        "outputId": "6986672b-5ef4-4372-949b-03281328405b"
      },
      "execution_count": 1279,
      "outputs": [
        {
          "output_type": "execute_result",
          "data": {
            "text/plain": [
              "array(['Covered', 'Open'], dtype=object)"
            ]
          },
          "metadata": {},
          "execution_count": 1279
        }
      ]
    },
    {
      "cell_type": "code",
      "source": [
        "def change_elem(name_column):\n",
        "  d = data[name_column].unique()\n",
        "  index = 0\n",
        "  for elem in d:\n",
        "    data.loc[data[name_column] == elem, name_column] = index\n",
        "    index = index + 1"
      ],
      "metadata": {
        "id": "OIIN0-RrTFhC"
      },
      "execution_count": 1280,
      "outputs": []
    },
    {
      "cell_type": "code",
      "source": [
        "name_columns = ['type_parking_place', 'Ownership', 'Society', 'Furnishing', 'Transaction', 'location']\n",
        "for name in name_columns:\n",
        "  change_elem(name)"
      ],
      "metadata": {
        "id": "1qiUc_gXckZ5"
      },
      "execution_count": 1281,
      "outputs": []
    },
    {
      "cell_type": "markdown",
      "source": [
        "После применения:"
      ],
      "metadata": {
        "id": "Ej7C3OcJfZYu"
      }
    },
    {
      "cell_type": "code",
      "source": [
        "data['type_parking_place'].unique()"
      ],
      "metadata": {
        "colab": {
          "base_uri": "https://localhost:8080/"
        },
        "id": "6F1a4ObTfW2F",
        "outputId": "6cdd94b6-a07c-440a-d554-248ef9a70dc2"
      },
      "execution_count": 1282,
      "outputs": [
        {
          "output_type": "execute_result",
          "data": {
            "text/plain": [
              "array([0, 1], dtype=object)"
            ]
          },
          "metadata": {},
          "execution_count": 1282
        }
      ]
    },
    {
      "cell_type": "markdown",
      "source": [
        "# Нормализуем количественные признаки"
      ],
      "metadata": {
        "id": "oC_sbkrdizmE"
      }
    },
    {
      "cell_type": "markdown",
      "source": [
        "Относительно медианы будем делить на 2 класса:"
      ],
      "metadata": {
        "id": "5osNumXC4izf"
      }
    },
    {
      "cell_type": "code",
      "source": [
        "data['Amount'].mean()"
      ],
      "metadata": {
        "colab": {
          "base_uri": "https://localhost:8080/"
        },
        "id": "N-X1xR4stgeU",
        "outputId": "1faff368-ed71-422e-b41e-2e764624a4dc"
      },
      "execution_count": 1283,
      "outputs": [
        {
          "output_type": "execute_result",
          "data": {
            "text/plain": [
              "17641292.50775958"
            ]
          },
          "metadata": {},
          "execution_count": 1283
        }
      ]
    },
    {
      "cell_type": "code",
      "source": [
        "def norm(name_column):\n",
        "  data_numerical = data[name_column]\n",
        "  data[name_column] = (data_numerical - data_numerical.mean(axis = 0))/data_numerical.std(axis = 0)"
      ],
      "metadata": {
        "id": "5q_w3mXZi52O"
      },
      "execution_count": 1284,
      "outputs": []
    },
    {
      "cell_type": "code",
      "source": [
        "name_columns = ['Amount', 'Price', 'Floor', 'Bathroom', 'Balcony', 'Super Area', 'square', 'count_room', 'max_floor', 'count_parking_place']\n",
        "for name in name_columns:\n",
        "  norm(name)"
      ],
      "metadata": {
        "id": "ZIlGScHmjLnf"
      },
      "execution_count": 1285,
      "outputs": []
    },
    {
      "cell_type": "code",
      "source": [
        "data.describe()"
      ],
      "metadata": {
        "colab": {
          "base_uri": "https://localhost:8080/",
          "height": 320
        },
        "id": "OQejATitkv77",
        "outputId": "285d8ebe-61c3-4ba1-8659-c6abc8e145b8"
      },
      "execution_count": 1286,
      "outputs": [
        {
          "output_type": "execute_result",
          "data": {
            "text/plain": [
              "             Amount         Price         Floor      Bathroom       Balcony  \\\n",
              "count  4.413900e+04  4.413900e+04  4.413900e+04  4.413900e+04  4.413900e+04   \n",
              "mean  -7.726965e-17 -7.211834e-17 -4.893745e-17  1.030262e-17  2.788147e-16   \n",
              "std    1.000000e+00  1.000000e+00  1.000000e+00  1.000000e+00  1.000000e+00   \n",
              "min   -9.881882e-01 -1.290900e+00 -1.088085e+00 -1.055857e+00 -1.323140e+00   \n",
              "25%   -6.844686e-01 -7.938954e-01 -8.610532e-01 -1.055857e+00 -3.244383e-01   \n",
              "50%   -2.457626e-01 -2.310527e-01 -1.799579e-01  1.393439e-01 -3.244383e-01   \n",
              "75%    2.941833e-01  5.106566e-01  5.011375e-01  1.393439e-01  6.742634e-01   \n",
              "max    4.856726e+00  3.787805e+00  3.906614e+00  2.529745e+00  2.671667e+00   \n",
              "\n",
              "         Super Area        square    count_room     max_floor  \\\n",
              "count  4.413900e+04  4.413900e+04  4.413900e+04  4.413900e+04   \n",
              "mean  -3.219569e-17  6.439138e-17  3.863483e-17  9.014793e-17   \n",
              "std    1.000000e+00  1.000000e+00  1.000000e+00  1.000000e+00   \n",
              "min   -1.419025e+00 -1.395831e+00 -1.497511e+00 -1.024378e+00   \n",
              "25%   -7.027785e-01 -7.266863e-01 -2.583985e-02 -8.902447e-01   \n",
              "50%   -1.445077e-01 -1.523134e-01 -2.583985e-02 -3.537130e-01   \n",
              "75%    3.856488e-01  2.885178e-01 -2.583985e-02  4.510846e-01   \n",
              "max    4.241332e+00  4.418259e+00  2.917502e+00  3.133743e+00   \n",
              "\n",
              "       count_parking_place  \n",
              "count         4.413900e+04  \n",
              "mean         -2.253698e-17  \n",
              "std           1.000000e+00  \n",
              "min          -1.105719e-01  \n",
              "25%          -1.105719e-01  \n",
              "50%          -1.105719e-01  \n",
              "75%          -8.168105e-02  \n",
              "max           1.147467e+01  "
            ],
            "text/html": [
              "\n",
              "  <div id=\"df-3bf499b0-3953-49d7-9a9d-88e59bdf0e2f\" class=\"colab-df-container\">\n",
              "    <div>\n",
              "<style scoped>\n",
              "    .dataframe tbody tr th:only-of-type {\n",
              "        vertical-align: middle;\n",
              "    }\n",
              "\n",
              "    .dataframe tbody tr th {\n",
              "        vertical-align: top;\n",
              "    }\n",
              "\n",
              "    .dataframe thead th {\n",
              "        text-align: right;\n",
              "    }\n",
              "</style>\n",
              "<table border=\"1\" class=\"dataframe\">\n",
              "  <thead>\n",
              "    <tr style=\"text-align: right;\">\n",
              "      <th></th>\n",
              "      <th>Amount</th>\n",
              "      <th>Price</th>\n",
              "      <th>Floor</th>\n",
              "      <th>Bathroom</th>\n",
              "      <th>Balcony</th>\n",
              "      <th>Super Area</th>\n",
              "      <th>square</th>\n",
              "      <th>count_room</th>\n",
              "      <th>max_floor</th>\n",
              "      <th>count_parking_place</th>\n",
              "    </tr>\n",
              "  </thead>\n",
              "  <tbody>\n",
              "    <tr>\n",
              "      <th>count</th>\n",
              "      <td>4.413900e+04</td>\n",
              "      <td>4.413900e+04</td>\n",
              "      <td>4.413900e+04</td>\n",
              "      <td>4.413900e+04</td>\n",
              "      <td>4.413900e+04</td>\n",
              "      <td>4.413900e+04</td>\n",
              "      <td>4.413900e+04</td>\n",
              "      <td>4.413900e+04</td>\n",
              "      <td>4.413900e+04</td>\n",
              "      <td>4.413900e+04</td>\n",
              "    </tr>\n",
              "    <tr>\n",
              "      <th>mean</th>\n",
              "      <td>-7.726965e-17</td>\n",
              "      <td>-7.211834e-17</td>\n",
              "      <td>-4.893745e-17</td>\n",
              "      <td>1.030262e-17</td>\n",
              "      <td>2.788147e-16</td>\n",
              "      <td>-3.219569e-17</td>\n",
              "      <td>6.439138e-17</td>\n",
              "      <td>3.863483e-17</td>\n",
              "      <td>9.014793e-17</td>\n",
              "      <td>-2.253698e-17</td>\n",
              "    </tr>\n",
              "    <tr>\n",
              "      <th>std</th>\n",
              "      <td>1.000000e+00</td>\n",
              "      <td>1.000000e+00</td>\n",
              "      <td>1.000000e+00</td>\n",
              "      <td>1.000000e+00</td>\n",
              "      <td>1.000000e+00</td>\n",
              "      <td>1.000000e+00</td>\n",
              "      <td>1.000000e+00</td>\n",
              "      <td>1.000000e+00</td>\n",
              "      <td>1.000000e+00</td>\n",
              "      <td>1.000000e+00</td>\n",
              "    </tr>\n",
              "    <tr>\n",
              "      <th>min</th>\n",
              "      <td>-9.881882e-01</td>\n",
              "      <td>-1.290900e+00</td>\n",
              "      <td>-1.088085e+00</td>\n",
              "      <td>-1.055857e+00</td>\n",
              "      <td>-1.323140e+00</td>\n",
              "      <td>-1.419025e+00</td>\n",
              "      <td>-1.395831e+00</td>\n",
              "      <td>-1.497511e+00</td>\n",
              "      <td>-1.024378e+00</td>\n",
              "      <td>-1.105719e-01</td>\n",
              "    </tr>\n",
              "    <tr>\n",
              "      <th>25%</th>\n",
              "      <td>-6.844686e-01</td>\n",
              "      <td>-7.938954e-01</td>\n",
              "      <td>-8.610532e-01</td>\n",
              "      <td>-1.055857e+00</td>\n",
              "      <td>-3.244383e-01</td>\n",
              "      <td>-7.027785e-01</td>\n",
              "      <td>-7.266863e-01</td>\n",
              "      <td>-2.583985e-02</td>\n",
              "      <td>-8.902447e-01</td>\n",
              "      <td>-1.105719e-01</td>\n",
              "    </tr>\n",
              "    <tr>\n",
              "      <th>50%</th>\n",
              "      <td>-2.457626e-01</td>\n",
              "      <td>-2.310527e-01</td>\n",
              "      <td>-1.799579e-01</td>\n",
              "      <td>1.393439e-01</td>\n",
              "      <td>-3.244383e-01</td>\n",
              "      <td>-1.445077e-01</td>\n",
              "      <td>-1.523134e-01</td>\n",
              "      <td>-2.583985e-02</td>\n",
              "      <td>-3.537130e-01</td>\n",
              "      <td>-1.105719e-01</td>\n",
              "    </tr>\n",
              "    <tr>\n",
              "      <th>75%</th>\n",
              "      <td>2.941833e-01</td>\n",
              "      <td>5.106566e-01</td>\n",
              "      <td>5.011375e-01</td>\n",
              "      <td>1.393439e-01</td>\n",
              "      <td>6.742634e-01</td>\n",
              "      <td>3.856488e-01</td>\n",
              "      <td>2.885178e-01</td>\n",
              "      <td>-2.583985e-02</td>\n",
              "      <td>4.510846e-01</td>\n",
              "      <td>-8.168105e-02</td>\n",
              "    </tr>\n",
              "    <tr>\n",
              "      <th>max</th>\n",
              "      <td>4.856726e+00</td>\n",
              "      <td>3.787805e+00</td>\n",
              "      <td>3.906614e+00</td>\n",
              "      <td>2.529745e+00</td>\n",
              "      <td>2.671667e+00</td>\n",
              "      <td>4.241332e+00</td>\n",
              "      <td>4.418259e+00</td>\n",
              "      <td>2.917502e+00</td>\n",
              "      <td>3.133743e+00</td>\n",
              "      <td>1.147467e+01</td>\n",
              "    </tr>\n",
              "  </tbody>\n",
              "</table>\n",
              "</div>\n",
              "    <div class=\"colab-df-buttons\">\n",
              "\n",
              "  <div class=\"colab-df-container\">\n",
              "    <button class=\"colab-df-convert\" onclick=\"convertToInteractive('df-3bf499b0-3953-49d7-9a9d-88e59bdf0e2f')\"\n",
              "            title=\"Convert this dataframe to an interactive table.\"\n",
              "            style=\"display:none;\">\n",
              "\n",
              "  <svg xmlns=\"http://www.w3.org/2000/svg\" height=\"24px\" viewBox=\"0 -960 960 960\">\n",
              "    <path d=\"M120-120v-720h720v720H120Zm60-500h600v-160H180v160Zm220 220h160v-160H400v160Zm0 220h160v-160H400v160ZM180-400h160v-160H180v160Zm440 0h160v-160H620v160ZM180-180h160v-160H180v160Zm440 0h160v-160H620v160Z\"/>\n",
              "  </svg>\n",
              "    </button>\n",
              "\n",
              "  <style>\n",
              "    .colab-df-container {\n",
              "      display:flex;\n",
              "      gap: 12px;\n",
              "    }\n",
              "\n",
              "    .colab-df-convert {\n",
              "      background-color: #E8F0FE;\n",
              "      border: none;\n",
              "      border-radius: 50%;\n",
              "      cursor: pointer;\n",
              "      display: none;\n",
              "      fill: #1967D2;\n",
              "      height: 32px;\n",
              "      padding: 0 0 0 0;\n",
              "      width: 32px;\n",
              "    }\n",
              "\n",
              "    .colab-df-convert:hover {\n",
              "      background-color: #E2EBFA;\n",
              "      box-shadow: 0px 1px 2px rgba(60, 64, 67, 0.3), 0px 1px 3px 1px rgba(60, 64, 67, 0.15);\n",
              "      fill: #174EA6;\n",
              "    }\n",
              "\n",
              "    .colab-df-buttons div {\n",
              "      margin-bottom: 4px;\n",
              "    }\n",
              "\n",
              "    [theme=dark] .colab-df-convert {\n",
              "      background-color: #3B4455;\n",
              "      fill: #D2E3FC;\n",
              "    }\n",
              "\n",
              "    [theme=dark] .colab-df-convert:hover {\n",
              "      background-color: #434B5C;\n",
              "      box-shadow: 0px 1px 3px 1px rgba(0, 0, 0, 0.15);\n",
              "      filter: drop-shadow(0px 1px 2px rgba(0, 0, 0, 0.3));\n",
              "      fill: #FFFFFF;\n",
              "    }\n",
              "  </style>\n",
              "\n",
              "    <script>\n",
              "      const buttonEl =\n",
              "        document.querySelector('#df-3bf499b0-3953-49d7-9a9d-88e59bdf0e2f button.colab-df-convert');\n",
              "      buttonEl.style.display =\n",
              "        google.colab.kernel.accessAllowed ? 'block' : 'none';\n",
              "\n",
              "      async function convertToInteractive(key) {\n",
              "        const element = document.querySelector('#df-3bf499b0-3953-49d7-9a9d-88e59bdf0e2f');\n",
              "        const dataTable =\n",
              "          await google.colab.kernel.invokeFunction('convertToInteractive',\n",
              "                                                    [key], {});\n",
              "        if (!dataTable) return;\n",
              "\n",
              "        const docLinkHtml = 'Like what you see? Visit the ' +\n",
              "          '<a target=\"_blank\" href=https://colab.research.google.com/notebooks/data_table.ipynb>data table notebook</a>'\n",
              "          + ' to learn more about interactive tables.';\n",
              "        element.innerHTML = '';\n",
              "        dataTable['output_type'] = 'display_data';\n",
              "        await google.colab.output.renderOutput(dataTable, element);\n",
              "        const docLink = document.createElement('div');\n",
              "        docLink.innerHTML = docLinkHtml;\n",
              "        element.appendChild(docLink);\n",
              "      }\n",
              "    </script>\n",
              "  </div>\n",
              "\n",
              "\n",
              "<div id=\"df-21238a2f-e423-4579-838f-6e0a4bed06ce\">\n",
              "  <button class=\"colab-df-quickchart\" onclick=\"quickchart('df-21238a2f-e423-4579-838f-6e0a4bed06ce')\"\n",
              "            title=\"Suggest charts\"\n",
              "            style=\"display:none;\">\n",
              "\n",
              "<svg xmlns=\"http://www.w3.org/2000/svg\" height=\"24px\"viewBox=\"0 0 24 24\"\n",
              "     width=\"24px\">\n",
              "    <g>\n",
              "        <path d=\"M19 3H5c-1.1 0-2 .9-2 2v14c0 1.1.9 2 2 2h14c1.1 0 2-.9 2-2V5c0-1.1-.9-2-2-2zM9 17H7v-7h2v7zm4 0h-2V7h2v10zm4 0h-2v-4h2v4z\"/>\n",
              "    </g>\n",
              "</svg>\n",
              "  </button>\n",
              "\n",
              "<style>\n",
              "  .colab-df-quickchart {\n",
              "      --bg-color: #E8F0FE;\n",
              "      --fill-color: #1967D2;\n",
              "      --hover-bg-color: #E2EBFA;\n",
              "      --hover-fill-color: #174EA6;\n",
              "      --disabled-fill-color: #AAA;\n",
              "      --disabled-bg-color: #DDD;\n",
              "  }\n",
              "\n",
              "  [theme=dark] .colab-df-quickchart {\n",
              "      --bg-color: #3B4455;\n",
              "      --fill-color: #D2E3FC;\n",
              "      --hover-bg-color: #434B5C;\n",
              "      --hover-fill-color: #FFFFFF;\n",
              "      --disabled-bg-color: #3B4455;\n",
              "      --disabled-fill-color: #666;\n",
              "  }\n",
              "\n",
              "  .colab-df-quickchart {\n",
              "    background-color: var(--bg-color);\n",
              "    border: none;\n",
              "    border-radius: 50%;\n",
              "    cursor: pointer;\n",
              "    display: none;\n",
              "    fill: var(--fill-color);\n",
              "    height: 32px;\n",
              "    padding: 0;\n",
              "    width: 32px;\n",
              "  }\n",
              "\n",
              "  .colab-df-quickchart:hover {\n",
              "    background-color: var(--hover-bg-color);\n",
              "    box-shadow: 0 1px 2px rgba(60, 64, 67, 0.3), 0 1px 3px 1px rgba(60, 64, 67, 0.15);\n",
              "    fill: var(--button-hover-fill-color);\n",
              "  }\n",
              "\n",
              "  .colab-df-quickchart-complete:disabled,\n",
              "  .colab-df-quickchart-complete:disabled:hover {\n",
              "    background-color: var(--disabled-bg-color);\n",
              "    fill: var(--disabled-fill-color);\n",
              "    box-shadow: none;\n",
              "  }\n",
              "\n",
              "  .colab-df-spinner {\n",
              "    border: 2px solid var(--fill-color);\n",
              "    border-color: transparent;\n",
              "    border-bottom-color: var(--fill-color);\n",
              "    animation:\n",
              "      spin 1s steps(1) infinite;\n",
              "  }\n",
              "\n",
              "  @keyframes spin {\n",
              "    0% {\n",
              "      border-color: transparent;\n",
              "      border-bottom-color: var(--fill-color);\n",
              "      border-left-color: var(--fill-color);\n",
              "    }\n",
              "    20% {\n",
              "      border-color: transparent;\n",
              "      border-left-color: var(--fill-color);\n",
              "      border-top-color: var(--fill-color);\n",
              "    }\n",
              "    30% {\n",
              "      border-color: transparent;\n",
              "      border-left-color: var(--fill-color);\n",
              "      border-top-color: var(--fill-color);\n",
              "      border-right-color: var(--fill-color);\n",
              "    }\n",
              "    40% {\n",
              "      border-color: transparent;\n",
              "      border-right-color: var(--fill-color);\n",
              "      border-top-color: var(--fill-color);\n",
              "    }\n",
              "    60% {\n",
              "      border-color: transparent;\n",
              "      border-right-color: var(--fill-color);\n",
              "    }\n",
              "    80% {\n",
              "      border-color: transparent;\n",
              "      border-right-color: var(--fill-color);\n",
              "      border-bottom-color: var(--fill-color);\n",
              "    }\n",
              "    90% {\n",
              "      border-color: transparent;\n",
              "      border-bottom-color: var(--fill-color);\n",
              "    }\n",
              "  }\n",
              "</style>\n",
              "\n",
              "  <script>\n",
              "    async function quickchart(key) {\n",
              "      const quickchartButtonEl =\n",
              "        document.querySelector('#' + key + ' button');\n",
              "      quickchartButtonEl.disabled = true;  // To prevent multiple clicks.\n",
              "      quickchartButtonEl.classList.add('colab-df-spinner');\n",
              "      try {\n",
              "        const charts = await google.colab.kernel.invokeFunction(\n",
              "            'suggestCharts', [key], {});\n",
              "      } catch (error) {\n",
              "        console.error('Error during call to suggestCharts:', error);\n",
              "      }\n",
              "      quickchartButtonEl.classList.remove('colab-df-spinner');\n",
              "      quickchartButtonEl.classList.add('colab-df-quickchart-complete');\n",
              "    }\n",
              "    (() => {\n",
              "      let quickchartButtonEl =\n",
              "        document.querySelector('#df-21238a2f-e423-4579-838f-6e0a4bed06ce button');\n",
              "      quickchartButtonEl.style.display =\n",
              "        google.colab.kernel.accessAllowed ? 'block' : 'none';\n",
              "    })();\n",
              "  </script>\n",
              "</div>\n",
              "    </div>\n",
              "  </div>\n"
            ]
          },
          "metadata": {},
          "execution_count": 1286
        }
      ]
    },
    {
      "cell_type": "code",
      "source": [
        "data.head(5)"
      ],
      "metadata": {
        "colab": {
          "base_uri": "https://localhost:8080/",
          "height": 243
        },
        "id": "tE0sguXPaRrm",
        "outputId": "dc1de287-3dae-4e67-e75a-c070f684f081"
      },
      "execution_count": 1287,
      "outputs": [
        {
          "output_type": "execute_result",
          "data": {
            "text/plain": [
              "      Amount     Price location     Floor Transaction Furnishing Society  \\\n",
              "9  -0.110776  0.506743        0 -0.634021           0          0       0   \n",
              "13  1.677795  1.974508        0  2.771455           0          1       1   \n",
              "15 -0.583229  0.242011        0  0.955201           1          0       2   \n",
              "21 -0.077030  1.393019        0  2.090360           0          0       3   \n",
              "28 -0.009536  1.242007        0  0.501137           0          2       4   \n",
              "\n",
              "    Bathroom   Balcony Ownership  Super Area    square  count_room  max_floor  \\\n",
              "9   0.139344 -1.323140         0   -0.501962 -0.870280   -0.025840   2.194813   \n",
              "13  1.334545 -1.323140         0    0.823430  0.450778    1.445831   2.194813   \n",
              "15 -1.055857 -1.323140         0   -1.218208 -1.193364   -1.497511   0.719351   \n",
              "21 -1.055857 -0.324438         0   -0.950453 -1.207724   -1.497511   2.731345   \n",
              "28  0.139344  0.674263         0   -0.789799 -0.834381   -0.025840   1.255882   \n",
              "\n",
              "    count_parking_place type_parking_place  \n",
              "9             -0.110572                  0  \n",
              "13            -0.081681                  0  \n",
              "15            -0.110572                  0  \n",
              "21            -0.110572                  0  \n",
              "28            -0.110572                  0  "
            ],
            "text/html": [
              "\n",
              "  <div id=\"df-137cf8ac-e2b5-4441-8033-ec5ce592de6c\" class=\"colab-df-container\">\n",
              "    <div>\n",
              "<style scoped>\n",
              "    .dataframe tbody tr th:only-of-type {\n",
              "        vertical-align: middle;\n",
              "    }\n",
              "\n",
              "    .dataframe tbody tr th {\n",
              "        vertical-align: top;\n",
              "    }\n",
              "\n",
              "    .dataframe thead th {\n",
              "        text-align: right;\n",
              "    }\n",
              "</style>\n",
              "<table border=\"1\" class=\"dataframe\">\n",
              "  <thead>\n",
              "    <tr style=\"text-align: right;\">\n",
              "      <th></th>\n",
              "      <th>Amount</th>\n",
              "      <th>Price</th>\n",
              "      <th>location</th>\n",
              "      <th>Floor</th>\n",
              "      <th>Transaction</th>\n",
              "      <th>Furnishing</th>\n",
              "      <th>Society</th>\n",
              "      <th>Bathroom</th>\n",
              "      <th>Balcony</th>\n",
              "      <th>Ownership</th>\n",
              "      <th>Super Area</th>\n",
              "      <th>square</th>\n",
              "      <th>count_room</th>\n",
              "      <th>max_floor</th>\n",
              "      <th>count_parking_place</th>\n",
              "      <th>type_parking_place</th>\n",
              "    </tr>\n",
              "  </thead>\n",
              "  <tbody>\n",
              "    <tr>\n",
              "      <th>9</th>\n",
              "      <td>-0.110776</td>\n",
              "      <td>0.506743</td>\n",
              "      <td>0</td>\n",
              "      <td>-0.634021</td>\n",
              "      <td>0</td>\n",
              "      <td>0</td>\n",
              "      <td>0</td>\n",
              "      <td>0.139344</td>\n",
              "      <td>-1.323140</td>\n",
              "      <td>0</td>\n",
              "      <td>-0.501962</td>\n",
              "      <td>-0.870280</td>\n",
              "      <td>-0.025840</td>\n",
              "      <td>2.194813</td>\n",
              "      <td>-0.110572</td>\n",
              "      <td>0</td>\n",
              "    </tr>\n",
              "    <tr>\n",
              "      <th>13</th>\n",
              "      <td>1.677795</td>\n",
              "      <td>1.974508</td>\n",
              "      <td>0</td>\n",
              "      <td>2.771455</td>\n",
              "      <td>0</td>\n",
              "      <td>1</td>\n",
              "      <td>1</td>\n",
              "      <td>1.334545</td>\n",
              "      <td>-1.323140</td>\n",
              "      <td>0</td>\n",
              "      <td>0.823430</td>\n",
              "      <td>0.450778</td>\n",
              "      <td>1.445831</td>\n",
              "      <td>2.194813</td>\n",
              "      <td>-0.081681</td>\n",
              "      <td>0</td>\n",
              "    </tr>\n",
              "    <tr>\n",
              "      <th>15</th>\n",
              "      <td>-0.583229</td>\n",
              "      <td>0.242011</td>\n",
              "      <td>0</td>\n",
              "      <td>0.955201</td>\n",
              "      <td>1</td>\n",
              "      <td>0</td>\n",
              "      <td>2</td>\n",
              "      <td>-1.055857</td>\n",
              "      <td>-1.323140</td>\n",
              "      <td>0</td>\n",
              "      <td>-1.218208</td>\n",
              "      <td>-1.193364</td>\n",
              "      <td>-1.497511</td>\n",
              "      <td>0.719351</td>\n",
              "      <td>-0.110572</td>\n",
              "      <td>0</td>\n",
              "    </tr>\n",
              "    <tr>\n",
              "      <th>21</th>\n",
              "      <td>-0.077030</td>\n",
              "      <td>1.393019</td>\n",
              "      <td>0</td>\n",
              "      <td>2.090360</td>\n",
              "      <td>0</td>\n",
              "      <td>0</td>\n",
              "      <td>3</td>\n",
              "      <td>-1.055857</td>\n",
              "      <td>-0.324438</td>\n",
              "      <td>0</td>\n",
              "      <td>-0.950453</td>\n",
              "      <td>-1.207724</td>\n",
              "      <td>-1.497511</td>\n",
              "      <td>2.731345</td>\n",
              "      <td>-0.110572</td>\n",
              "      <td>0</td>\n",
              "    </tr>\n",
              "    <tr>\n",
              "      <th>28</th>\n",
              "      <td>-0.009536</td>\n",
              "      <td>1.242007</td>\n",
              "      <td>0</td>\n",
              "      <td>0.501137</td>\n",
              "      <td>0</td>\n",
              "      <td>2</td>\n",
              "      <td>4</td>\n",
              "      <td>0.139344</td>\n",
              "      <td>0.674263</td>\n",
              "      <td>0</td>\n",
              "      <td>-0.789799</td>\n",
              "      <td>-0.834381</td>\n",
              "      <td>-0.025840</td>\n",
              "      <td>1.255882</td>\n",
              "      <td>-0.110572</td>\n",
              "      <td>0</td>\n",
              "    </tr>\n",
              "  </tbody>\n",
              "</table>\n",
              "</div>\n",
              "    <div class=\"colab-df-buttons\">\n",
              "\n",
              "  <div class=\"colab-df-container\">\n",
              "    <button class=\"colab-df-convert\" onclick=\"convertToInteractive('df-137cf8ac-e2b5-4441-8033-ec5ce592de6c')\"\n",
              "            title=\"Convert this dataframe to an interactive table.\"\n",
              "            style=\"display:none;\">\n",
              "\n",
              "  <svg xmlns=\"http://www.w3.org/2000/svg\" height=\"24px\" viewBox=\"0 -960 960 960\">\n",
              "    <path d=\"M120-120v-720h720v720H120Zm60-500h600v-160H180v160Zm220 220h160v-160H400v160Zm0 220h160v-160H400v160ZM180-400h160v-160H180v160Zm440 0h160v-160H620v160ZM180-180h160v-160H180v160Zm440 0h160v-160H620v160Z\"/>\n",
              "  </svg>\n",
              "    </button>\n",
              "\n",
              "  <style>\n",
              "    .colab-df-container {\n",
              "      display:flex;\n",
              "      gap: 12px;\n",
              "    }\n",
              "\n",
              "    .colab-df-convert {\n",
              "      background-color: #E8F0FE;\n",
              "      border: none;\n",
              "      border-radius: 50%;\n",
              "      cursor: pointer;\n",
              "      display: none;\n",
              "      fill: #1967D2;\n",
              "      height: 32px;\n",
              "      padding: 0 0 0 0;\n",
              "      width: 32px;\n",
              "    }\n",
              "\n",
              "    .colab-df-convert:hover {\n",
              "      background-color: #E2EBFA;\n",
              "      box-shadow: 0px 1px 2px rgba(60, 64, 67, 0.3), 0px 1px 3px 1px rgba(60, 64, 67, 0.15);\n",
              "      fill: #174EA6;\n",
              "    }\n",
              "\n",
              "    .colab-df-buttons div {\n",
              "      margin-bottom: 4px;\n",
              "    }\n",
              "\n",
              "    [theme=dark] .colab-df-convert {\n",
              "      background-color: #3B4455;\n",
              "      fill: #D2E3FC;\n",
              "    }\n",
              "\n",
              "    [theme=dark] .colab-df-convert:hover {\n",
              "      background-color: #434B5C;\n",
              "      box-shadow: 0px 1px 3px 1px rgba(0, 0, 0, 0.15);\n",
              "      filter: drop-shadow(0px 1px 2px rgba(0, 0, 0, 0.3));\n",
              "      fill: #FFFFFF;\n",
              "    }\n",
              "  </style>\n",
              "\n",
              "    <script>\n",
              "      const buttonEl =\n",
              "        document.querySelector('#df-137cf8ac-e2b5-4441-8033-ec5ce592de6c button.colab-df-convert');\n",
              "      buttonEl.style.display =\n",
              "        google.colab.kernel.accessAllowed ? 'block' : 'none';\n",
              "\n",
              "      async function convertToInteractive(key) {\n",
              "        const element = document.querySelector('#df-137cf8ac-e2b5-4441-8033-ec5ce592de6c');\n",
              "        const dataTable =\n",
              "          await google.colab.kernel.invokeFunction('convertToInteractive',\n",
              "                                                    [key], {});\n",
              "        if (!dataTable) return;\n",
              "\n",
              "        const docLinkHtml = 'Like what you see? Visit the ' +\n",
              "          '<a target=\"_blank\" href=https://colab.research.google.com/notebooks/data_table.ipynb>data table notebook</a>'\n",
              "          + ' to learn more about interactive tables.';\n",
              "        element.innerHTML = '';\n",
              "        dataTable['output_type'] = 'display_data';\n",
              "        await google.colab.output.renderOutput(dataTable, element);\n",
              "        const docLink = document.createElement('div');\n",
              "        docLink.innerHTML = docLinkHtml;\n",
              "        element.appendChild(docLink);\n",
              "      }\n",
              "    </script>\n",
              "  </div>\n",
              "\n",
              "\n",
              "<div id=\"df-1fe7aa7a-d510-4dce-91f6-03e6bca8faab\">\n",
              "  <button class=\"colab-df-quickchart\" onclick=\"quickchart('df-1fe7aa7a-d510-4dce-91f6-03e6bca8faab')\"\n",
              "            title=\"Suggest charts\"\n",
              "            style=\"display:none;\">\n",
              "\n",
              "<svg xmlns=\"http://www.w3.org/2000/svg\" height=\"24px\"viewBox=\"0 0 24 24\"\n",
              "     width=\"24px\">\n",
              "    <g>\n",
              "        <path d=\"M19 3H5c-1.1 0-2 .9-2 2v14c0 1.1.9 2 2 2h14c1.1 0 2-.9 2-2V5c0-1.1-.9-2-2-2zM9 17H7v-7h2v7zm4 0h-2V7h2v10zm4 0h-2v-4h2v4z\"/>\n",
              "    </g>\n",
              "</svg>\n",
              "  </button>\n",
              "\n",
              "<style>\n",
              "  .colab-df-quickchart {\n",
              "      --bg-color: #E8F0FE;\n",
              "      --fill-color: #1967D2;\n",
              "      --hover-bg-color: #E2EBFA;\n",
              "      --hover-fill-color: #174EA6;\n",
              "      --disabled-fill-color: #AAA;\n",
              "      --disabled-bg-color: #DDD;\n",
              "  }\n",
              "\n",
              "  [theme=dark] .colab-df-quickchart {\n",
              "      --bg-color: #3B4455;\n",
              "      --fill-color: #D2E3FC;\n",
              "      --hover-bg-color: #434B5C;\n",
              "      --hover-fill-color: #FFFFFF;\n",
              "      --disabled-bg-color: #3B4455;\n",
              "      --disabled-fill-color: #666;\n",
              "  }\n",
              "\n",
              "  .colab-df-quickchart {\n",
              "    background-color: var(--bg-color);\n",
              "    border: none;\n",
              "    border-radius: 50%;\n",
              "    cursor: pointer;\n",
              "    display: none;\n",
              "    fill: var(--fill-color);\n",
              "    height: 32px;\n",
              "    padding: 0;\n",
              "    width: 32px;\n",
              "  }\n",
              "\n",
              "  .colab-df-quickchart:hover {\n",
              "    background-color: var(--hover-bg-color);\n",
              "    box-shadow: 0 1px 2px rgba(60, 64, 67, 0.3), 0 1px 3px 1px rgba(60, 64, 67, 0.15);\n",
              "    fill: var(--button-hover-fill-color);\n",
              "  }\n",
              "\n",
              "  .colab-df-quickchart-complete:disabled,\n",
              "  .colab-df-quickchart-complete:disabled:hover {\n",
              "    background-color: var(--disabled-bg-color);\n",
              "    fill: var(--disabled-fill-color);\n",
              "    box-shadow: none;\n",
              "  }\n",
              "\n",
              "  .colab-df-spinner {\n",
              "    border: 2px solid var(--fill-color);\n",
              "    border-color: transparent;\n",
              "    border-bottom-color: var(--fill-color);\n",
              "    animation:\n",
              "      spin 1s steps(1) infinite;\n",
              "  }\n",
              "\n",
              "  @keyframes spin {\n",
              "    0% {\n",
              "      border-color: transparent;\n",
              "      border-bottom-color: var(--fill-color);\n",
              "      border-left-color: var(--fill-color);\n",
              "    }\n",
              "    20% {\n",
              "      border-color: transparent;\n",
              "      border-left-color: var(--fill-color);\n",
              "      border-top-color: var(--fill-color);\n",
              "    }\n",
              "    30% {\n",
              "      border-color: transparent;\n",
              "      border-left-color: var(--fill-color);\n",
              "      border-top-color: var(--fill-color);\n",
              "      border-right-color: var(--fill-color);\n",
              "    }\n",
              "    40% {\n",
              "      border-color: transparent;\n",
              "      border-right-color: var(--fill-color);\n",
              "      border-top-color: var(--fill-color);\n",
              "    }\n",
              "    60% {\n",
              "      border-color: transparent;\n",
              "      border-right-color: var(--fill-color);\n",
              "    }\n",
              "    80% {\n",
              "      border-color: transparent;\n",
              "      border-right-color: var(--fill-color);\n",
              "      border-bottom-color: var(--fill-color);\n",
              "    }\n",
              "    90% {\n",
              "      border-color: transparent;\n",
              "      border-bottom-color: var(--fill-color);\n",
              "    }\n",
              "  }\n",
              "</style>\n",
              "\n",
              "  <script>\n",
              "    async function quickchart(key) {\n",
              "      const quickchartButtonEl =\n",
              "        document.querySelector('#' + key + ' button');\n",
              "      quickchartButtonEl.disabled = true;  // To prevent multiple clicks.\n",
              "      quickchartButtonEl.classList.add('colab-df-spinner');\n",
              "      try {\n",
              "        const charts = await google.colab.kernel.invokeFunction(\n",
              "            'suggestCharts', [key], {});\n",
              "      } catch (error) {\n",
              "        console.error('Error during call to suggestCharts:', error);\n",
              "      }\n",
              "      quickchartButtonEl.classList.remove('colab-df-spinner');\n",
              "      quickchartButtonEl.classList.add('colab-df-quickchart-complete');\n",
              "    }\n",
              "    (() => {\n",
              "      let quickchartButtonEl =\n",
              "        document.querySelector('#df-1fe7aa7a-d510-4dce-91f6-03e6bca8faab button');\n",
              "      quickchartButtonEl.style.display =\n",
              "        google.colab.kernel.accessAllowed ? 'block' : 'none';\n",
              "    })();\n",
              "  </script>\n",
              "</div>\n",
              "    </div>\n",
              "  </div>\n"
            ]
          },
          "metadata": {},
          "execution_count": 1287
        }
      ]
    },
    {
      "cell_type": "markdown",
      "source": [
        "# Разобьем данные на обучающую и тестовые выборки"
      ],
      "metadata": {
        "id": "dIBfeDqfrXbf"
      }
    },
    {
      "cell_type": "code",
      "source": [
        "X = data.drop('Amount', axis = 1)\n",
        "y = data['Amount']\n",
        "feature_names = X.columns"
      ],
      "metadata": {
        "id": "-ZcRmduLrdGa"
      },
      "execution_count": 1288,
      "outputs": []
    },
    {
      "cell_type": "code",
      "source": [
        "X = X.to_numpy()"
      ],
      "metadata": {
        "id": "dY9j8YAorxmB"
      },
      "execution_count": 1289,
      "outputs": []
    },
    {
      "cell_type": "markdown",
      "source": [
        "Предсказывать результат будем относительно медианы значений из столбца 'Amount'. После нормализации это ноль."
      ],
      "metadata": {
        "id": "21RMA9myzyak"
      }
    },
    {
      "cell_type": "code",
      "source": [
        "y = np.array(y > 0, dtype='int')"
      ],
      "metadata": {
        "id": "n9y1gSg1r4ib"
      },
      "execution_count": 1290,
      "outputs": []
    },
    {
      "cell_type": "code",
      "source": [
        "y"
      ],
      "metadata": {
        "colab": {
          "base_uri": "https://localhost:8080/"
        },
        "id": "kZXWxDJmsHXU",
        "outputId": "dad64c67-d62b-40d2-8d18-e295d38eb811"
      },
      "execution_count": 1291,
      "outputs": [
        {
          "output_type": "execute_result",
          "data": {
            "text/plain": [
              "array([0, 1, 0, ..., 0, 0, 0])"
            ]
          },
          "metadata": {},
          "execution_count": 1291
        }
      ]
    },
    {
      "cell_type": "code",
      "source": [
        "N, d = X.shape"
      ],
      "metadata": {
        "id": "7oZBC9RGuFZT"
      },
      "execution_count": 1292,
      "outputs": []
    },
    {
      "cell_type": "code",
      "source": [
        "from sklearn.model_selection import train_test_split\n",
        "X_train, X_test, y_train, y_test = train_test_split(X, y, test_size = 0.3, random_state = 28)\n",
        "\n",
        "N_train, _ = X_train.shape\n",
        "N_test,  _ = X_test.shape\n",
        "\n",
        "print(N_train, N_test)"
      ],
      "metadata": {
        "colab": {
          "base_uri": "https://localhost:8080/"
        },
        "id": "AsSGC_w7uKFf",
        "outputId": "c064d07e-c997-4569-d406-3d11f2edbf37"
      },
      "execution_count": 1293,
      "outputs": [
        {
          "output_type": "stream",
          "name": "stdout",
          "text": [
            "30897 13242\n"
          ]
        }
      ]
    },
    {
      "cell_type": "markdown",
      "source": [
        "# Применим метод k-ближайших соседей"
      ],
      "metadata": {
        "id": "553YuLzSvazB"
      }
    },
    {
      "cell_type": "code",
      "source": [
        "from sklearn.neighbors import KNeighborsClassifier\n",
        "\n",
        "knn = KNeighborsClassifier(n_neighbors = 10)\n",
        "knn.fit(X_train, y_train)"
      ],
      "metadata": {
        "colab": {
          "base_uri": "https://localhost:8080/",
          "height": 74
        },
        "id": "qS2hLksXuoG-",
        "outputId": "c07cc1f0-49ad-4fd2-cf18-217749dde99a"
      },
      "execution_count": 1294,
      "outputs": [
        {
          "output_type": "execute_result",
          "data": {
            "text/plain": [
              "KNeighborsClassifier(n_neighbors=10)"
            ],
            "text/html": [
              "<style>#sk-container-id-15 {color: black;background-color: white;}#sk-container-id-15 pre{padding: 0;}#sk-container-id-15 div.sk-toggleable {background-color: white;}#sk-container-id-15 label.sk-toggleable__label {cursor: pointer;display: block;width: 100%;margin-bottom: 0;padding: 0.3em;box-sizing: border-box;text-align: center;}#sk-container-id-15 label.sk-toggleable__label-arrow:before {content: \"▸\";float: left;margin-right: 0.25em;color: #696969;}#sk-container-id-15 label.sk-toggleable__label-arrow:hover:before {color: black;}#sk-container-id-15 div.sk-estimator:hover label.sk-toggleable__label-arrow:before {color: black;}#sk-container-id-15 div.sk-toggleable__content {max-height: 0;max-width: 0;overflow: hidden;text-align: left;background-color: #f0f8ff;}#sk-container-id-15 div.sk-toggleable__content pre {margin: 0.2em;color: black;border-radius: 0.25em;background-color: #f0f8ff;}#sk-container-id-15 input.sk-toggleable__control:checked~div.sk-toggleable__content {max-height: 200px;max-width: 100%;overflow: auto;}#sk-container-id-15 input.sk-toggleable__control:checked~label.sk-toggleable__label-arrow:before {content: \"▾\";}#sk-container-id-15 div.sk-estimator input.sk-toggleable__control:checked~label.sk-toggleable__label {background-color: #d4ebff;}#sk-container-id-15 div.sk-label input.sk-toggleable__control:checked~label.sk-toggleable__label {background-color: #d4ebff;}#sk-container-id-15 input.sk-hidden--visually {border: 0;clip: rect(1px 1px 1px 1px);clip: rect(1px, 1px, 1px, 1px);height: 1px;margin: -1px;overflow: hidden;padding: 0;position: absolute;width: 1px;}#sk-container-id-15 div.sk-estimator {font-family: monospace;background-color: #f0f8ff;border: 1px dotted black;border-radius: 0.25em;box-sizing: border-box;margin-bottom: 0.5em;}#sk-container-id-15 div.sk-estimator:hover {background-color: #d4ebff;}#sk-container-id-15 div.sk-parallel-item::after {content: \"\";width: 100%;border-bottom: 1px solid gray;flex-grow: 1;}#sk-container-id-15 div.sk-label:hover label.sk-toggleable__label {background-color: #d4ebff;}#sk-container-id-15 div.sk-serial::before {content: \"\";position: absolute;border-left: 1px solid gray;box-sizing: border-box;top: 0;bottom: 0;left: 50%;z-index: 0;}#sk-container-id-15 div.sk-serial {display: flex;flex-direction: column;align-items: center;background-color: white;padding-right: 0.2em;padding-left: 0.2em;position: relative;}#sk-container-id-15 div.sk-item {position: relative;z-index: 1;}#sk-container-id-15 div.sk-parallel {display: flex;align-items: stretch;justify-content: center;background-color: white;position: relative;}#sk-container-id-15 div.sk-item::before, #sk-container-id-15 div.sk-parallel-item::before {content: \"\";position: absolute;border-left: 1px solid gray;box-sizing: border-box;top: 0;bottom: 0;left: 50%;z-index: -1;}#sk-container-id-15 div.sk-parallel-item {display: flex;flex-direction: column;z-index: 1;position: relative;background-color: white;}#sk-container-id-15 div.sk-parallel-item:first-child::after {align-self: flex-end;width: 50%;}#sk-container-id-15 div.sk-parallel-item:last-child::after {align-self: flex-start;width: 50%;}#sk-container-id-15 div.sk-parallel-item:only-child::after {width: 0;}#sk-container-id-15 div.sk-dashed-wrapped {border: 1px dashed gray;margin: 0 0.4em 0.5em 0.4em;box-sizing: border-box;padding-bottom: 0.4em;background-color: white;}#sk-container-id-15 div.sk-label label {font-family: monospace;font-weight: bold;display: inline-block;line-height: 1.2em;}#sk-container-id-15 div.sk-label-container {text-align: center;}#sk-container-id-15 div.sk-container {/* jupyter's `normalize.less` sets `[hidden] { display: none; }` but bootstrap.min.css set `[hidden] { display: none !important; }` so we also need the `!important` here to be able to override the default hidden behavior on the sphinx rendered scikit-learn.org. See: https://github.com/scikit-learn/scikit-learn/issues/21755 */display: inline-block !important;position: relative;}#sk-container-id-15 div.sk-text-repr-fallback {display: none;}</style><div id=\"sk-container-id-15\" class=\"sk-top-container\"><div class=\"sk-text-repr-fallback\"><pre>KNeighborsClassifier(n_neighbors=10)</pre><b>In a Jupyter environment, please rerun this cell to show the HTML representation or trust the notebook. <br />On GitHub, the HTML representation is unable to render, please try loading this page with nbviewer.org.</b></div><div class=\"sk-container\" hidden><div class=\"sk-item\"><div class=\"sk-estimator sk-toggleable\"><input class=\"sk-toggleable__control sk-hidden--visually\" id=\"sk-estimator-id-15\" type=\"checkbox\" checked><label for=\"sk-estimator-id-15\" class=\"sk-toggleable__label sk-toggleable__label-arrow\">KNeighborsClassifier</label><div class=\"sk-toggleable__content\"><pre>KNeighborsClassifier(n_neighbors=10)</pre></div></div></div></div></div>"
            ]
          },
          "metadata": {},
          "execution_count": 1294
        }
      ]
    },
    {
      "cell_type": "code",
      "source": [
        "y_test_predict = knn.predict(X_test)\n",
        "err_test  = np.mean(y_test  != y_test_predict)"
      ],
      "metadata": {
        "id": "YhioH2Qou7DO"
      },
      "execution_count": 1295,
      "outputs": []
    },
    {
      "cell_type": "markdown",
      "source": [
        "Ошибка на тестовых данных:"
      ],
      "metadata": {
        "id": "V9usdatTvj2d"
      }
    },
    {
      "cell_type": "code",
      "source": [
        "err_test"
      ],
      "metadata": {
        "colab": {
          "base_uri": "https://localhost:8080/"
        },
        "id": "cIbvA0irvRtb",
        "outputId": "cb18705f-a670-4736-c4af-53ff0175a1e8"
      },
      "execution_count": 1296,
      "outputs": [
        {
          "output_type": "execute_result",
          "data": {
            "text/plain": [
              "0.04017520012082767"
            ]
          },
          "metadata": {},
          "execution_count": 1296
        }
      ]
    },
    {
      "cell_type": "markdown",
      "source": [
        "# Подберем оптимальный параметр для метода kNN:"
      ],
      "metadata": {
        "id": "InaMkuA8v3Ra"
      }
    },
    {
      "cell_type": "code",
      "source": [
        "from sklearn.neighbors import KNeighborsClassifier\n",
        "def iter_knn(n_neighbors):\n",
        "  knn = KNeighborsClassifier(n_neighbors = n_neighbors)\n",
        "  knn.fit(X_train, y_train)\n",
        "\n",
        "  y_test_predict = knn.predict(X_test)\n",
        "  err_test  = np.mean(y_test  != y_test_predict)\n",
        "  return err_test"
      ],
      "metadata": {
        "id": "28GjFyamwDnW"
      },
      "execution_count": 1297,
      "outputs": []
    },
    {
      "cell_type": "code",
      "source": [
        "opt_n = -1\n",
        "err = 100.0\n",
        "for i in range(1, 10):\n",
        "  res = iter_knn(i)\n",
        "  print(res)\n",
        "  if res < err:\n",
        "    err = res\n",
        "    opt_n = i\n",
        "print(opt_n, err)"
      ],
      "metadata": {
        "colab": {
          "base_uri": "https://localhost:8080/"
        },
        "id": "iaA3c1wJwZxo",
        "outputId": "ec8c4369-59c1-435e-b5b1-62f37f9c1811"
      },
      "execution_count": 1298,
      "outputs": [
        {
          "output_type": "stream",
          "name": "stdout",
          "text": [
            "0.025524845189548406\n",
            "0.02967829632985954\n",
            "0.028318985047575896\n",
            "0.032094849720586016\n",
            "0.03269898806826763\n",
            "0.03428485123093188\n",
            "0.03451140311131249\n",
            "0.03768312943664099\n",
            "0.038438302371243016\n",
            "1 0.025524845189548406\n"
          ]
        }
      ]
    },
    {
      "cell_type": "code",
      "source": [
        "knn = KNeighborsClassifier(n_neighbors = opt_n).fit(X_train, y_train)\n",
        "\n",
        "err_train = np.mean(y_train != knn.predict(X_train))\n",
        "err_test  = np.mean(y_test  != knn.predict(X_test))\n",
        "\n",
        "print(err_train, err_test)"
      ],
      "metadata": {
        "colab": {
          "base_uri": "https://localhost:8080/"
        },
        "id": "CQ9XddIKyWbT",
        "outputId": "d092b8c5-9160-4ae3-e2b8-f6d139607792"
      },
      "execution_count": 1299,
      "outputs": [
        {
          "output_type": "stream",
          "name": "stdout",
          "text": [
            "0.0 0.025524845189548406\n"
          ]
        }
      ]
    },
    {
      "cell_type": "markdown",
      "source": [
        "Наилучший результат достигается при выборе 1 ближайшего соседа. Ошибка на обучающей выборке равна 0%, на тестовой менее 3%"
      ],
      "metadata": {
        "id": "InHZMCQ_yRQF"
      }
    },
    {
      "cell_type": "markdown",
      "source": [
        "Выводы: выполняя работу я описал задачу, прочитал данные, преобразовал столбцы, содержащие строковые типы, в столбцы с числовыми, восстановил значения некоторых столбцов на основании имеющихся, избавился от выбросов, визуализировал данные, обработал категориальные признаки, провел нормализацию данных, применил метод kNN и посчитал величину ошибки на обучающей и тестовой выборках."
      ],
      "metadata": {
        "id": "beJih6Zl066q"
      }
    }
  ],
  "metadata": {
    "colab": {
      "provenance": [],
      "toc_visible": true,
      "authorship_tag": "ABX9TyPwU8H6Ciz9hMoiUY5r0nC7",
      "include_colab_link": true
    },
    "kernelspec": {
      "display_name": "Python 3",
      "name": "python3"
    },
    "language_info": {
      "name": "python"
    }
  },
  "nbformat": 4,
  "nbformat_minor": 0
}